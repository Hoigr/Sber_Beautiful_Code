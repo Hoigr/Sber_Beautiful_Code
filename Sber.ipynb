{
  "cells": [
    {
      "cell_type": "markdown",
      "metadata": {
        "id": "qYtK0gUZ_MWT"
      },
      "source": [
        "# Красивый код соревнование от Сбера в дисциплине data science"
      ]
    },
    {
      "cell_type": "markdown",
      "metadata": {
        "id": "wEL-B6JlAFMT"
      },
      "source": [
        "https://beautifulcode.sber.ru/task/data_science\n",
        "\n",
        "**Цель соревнования:**\n",
        "\n",
        "* Построить модель, которая на основании размеченных данных будет предсказывать качество пароля\n"
      ]
    },
    {
      "cell_type": "code",
      "execution_count": 1,
      "metadata": {
        "colab": {
          "base_uri": "https://localhost:8080/"
        },
        "id": "mfPR3vzwTosc",
        "outputId": "3a65fd85-9067-4967-b162-c57ba00ab999"
      },
      "outputs": [
        {
          "name": "stdout",
          "output_type": "stream",
          "text": [
            "Collecting catboost\n",
            "  Downloading catboost-1.2.1-cp310-cp310-manylinux2014_x86_64.whl (98.7 MB)\n",
            "\u001b[2K     \u001b[90m━━━━━━━━━━━━━━━━━━━━━━━━━━━━━━━━━━━━━━━━\u001b[0m \u001b[32m98.7/98.7 MB\u001b[0m \u001b[31m9.6 MB/s\u001b[0m eta \u001b[36m0:00:00\u001b[0m\n",
            "\u001b[?25hRequirement already satisfied: graphviz in /usr/local/lib/python3.10/dist-packages (from catboost) (0.20.1)\n",
            "Requirement already satisfied: matplotlib in /usr/local/lib/python3.10/dist-packages (from catboost) (3.7.1)\n",
            "Requirement already satisfied: numpy>=1.16.0 in /usr/local/lib/python3.10/dist-packages (from catboost) (1.23.5)\n",
            "Requirement already satisfied: pandas>=0.24 in /usr/local/lib/python3.10/dist-packages (from catboost) (1.5.3)\n",
            "Requirement already satisfied: scipy in /usr/local/lib/python3.10/dist-packages (from catboost) (1.11.2)\n",
            "Requirement already satisfied: plotly in /usr/local/lib/python3.10/dist-packages (from catboost) (5.15.0)\n",
            "Requirement already satisfied: six in /usr/local/lib/python3.10/dist-packages (from catboost) (1.16.0)\n",
            "Requirement already satisfied: python-dateutil>=2.8.1 in /usr/local/lib/python3.10/dist-packages (from pandas>=0.24->catboost) (2.8.2)\n",
            "Requirement already satisfied: pytz>=2020.1 in /usr/local/lib/python3.10/dist-packages (from pandas>=0.24->catboost) (2023.3.post1)\n",
            "Requirement already satisfied: contourpy>=1.0.1 in /usr/local/lib/python3.10/dist-packages (from matplotlib->catboost) (1.1.0)\n",
            "Requirement already satisfied: cycler>=0.10 in /usr/local/lib/python3.10/dist-packages (from matplotlib->catboost) (0.11.0)\n",
            "Requirement already satisfied: fonttools>=4.22.0 in /usr/local/lib/python3.10/dist-packages (from matplotlib->catboost) (4.42.1)\n",
            "Requirement already satisfied: kiwisolver>=1.0.1 in /usr/local/lib/python3.10/dist-packages (from matplotlib->catboost) (1.4.5)\n",
            "Requirement already satisfied: packaging>=20.0 in /usr/local/lib/python3.10/dist-packages (from matplotlib->catboost) (23.1)\n",
            "Requirement already satisfied: pillow>=6.2.0 in /usr/local/lib/python3.10/dist-packages (from matplotlib->catboost) (9.4.0)\n",
            "Requirement already satisfied: pyparsing>=2.3.1 in /usr/local/lib/python3.10/dist-packages (from matplotlib->catboost) (3.1.1)\n",
            "Requirement already satisfied: tenacity>=6.2.0 in /usr/local/lib/python3.10/dist-packages (from plotly->catboost) (8.2.3)\n",
            "Installing collected packages: catboost\n",
            "Successfully installed catboost-1.2.1\n"
          ]
        }
      ],
      "source": [
        "!pip install catboost"
      ]
    },
    {
      "cell_type": "code",
      "execution_count": 2,
      "metadata": {
        "id": "-ld8N06SNrAW"
      },
      "outputs": [],
      "source": [
        "import numpy as np\n",
        "import pandas as pd\n",
        "import seaborn as sns\n",
        "import matplotlib.pyplot as plt"
      ]
    },
    {
      "cell_type": "code",
      "execution_count": 3,
      "metadata": {
        "id": "fDclnprjOyDh"
      },
      "outputs": [],
      "source": [
        "url = r'/content/drive/MyDrive/DATA/SBER/passwords.csv'\n",
        "df = pd.read_csv(url)"
      ]
    },
    {
      "cell_type": "markdown",
      "metadata": {
        "id": "Do_euMyBVeMX"
      },
      "source": [
        "## Описание данных\n",
        "\n",
        "* password - пароль\n",
        "\n",
        "* strength (target) - оценка пароля: 0 - слабый, 1 - средний, 2 - сильный. Целевая переменная"
      ]
    },
    {
      "cell_type": "code",
      "execution_count": 4,
      "metadata": {
        "colab": {
          "base_uri": "https://localhost:8080/",
          "height": 206
        },
        "id": "Uk7yJbfPVhe2",
        "outputId": "7bc7f6be-9e8f-4197-9143-6099b3542c88"
      },
      "outputs": [
        {
          "data": {
            "text/html": [
              "\n",
              "  <div id=\"df-ba3cf602-515d-4ab0-89a4-58c2c3ecf9a5\" class=\"colab-df-container\">\n",
              "    <div>\n",
              "<style scoped>\n",
              "    .dataframe tbody tr th:only-of-type {\n",
              "        vertical-align: middle;\n",
              "    }\n",
              "\n",
              "    .dataframe tbody tr th {\n",
              "        vertical-align: top;\n",
              "    }\n",
              "\n",
              "    .dataframe thead th {\n",
              "        text-align: right;\n",
              "    }\n",
              "</style>\n",
              "<table border=\"1\" class=\"dataframe\">\n",
              "  <thead>\n",
              "    <tr style=\"text-align: right;\">\n",
              "      <th></th>\n",
              "      <th>password</th>\n",
              "      <th>strength</th>\n",
              "    </tr>\n",
              "  </thead>\n",
              "  <tbody>\n",
              "    <tr>\n",
              "      <th>0</th>\n",
              "      <td>yrtzuab476</td>\n",
              "      <td>1</td>\n",
              "    </tr>\n",
              "    <tr>\n",
              "      <th>1</th>\n",
              "      <td>yEdnN9jc1NgzkkBP</td>\n",
              "      <td>2</td>\n",
              "    </tr>\n",
              "    <tr>\n",
              "      <th>2</th>\n",
              "      <td>sarita99</td>\n",
              "      <td>1</td>\n",
              "    </tr>\n",
              "    <tr>\n",
              "      <th>3</th>\n",
              "      <td>Suramerica2015</td>\n",
              "      <td>2</td>\n",
              "    </tr>\n",
              "    <tr>\n",
              "      <th>4</th>\n",
              "      <td>PPRbMvDIxMQ19TMo</td>\n",
              "      <td>2</td>\n",
              "    </tr>\n",
              "  </tbody>\n",
              "</table>\n",
              "</div>\n",
              "    <div class=\"colab-df-buttons\">\n",
              "\n",
              "  <div class=\"colab-df-container\">\n",
              "    <button class=\"colab-df-convert\" onclick=\"convertToInteractive('df-ba3cf602-515d-4ab0-89a4-58c2c3ecf9a5')\"\n",
              "            title=\"Convert this dataframe to an interactive table.\"\n",
              "            style=\"display:none;\">\n",
              "\n",
              "  <svg xmlns=\"http://www.w3.org/2000/svg\" height=\"24px\" viewBox=\"0 -960 960 960\">\n",
              "    <path d=\"M120-120v-720h720v720H120Zm60-500h600v-160H180v160Zm220 220h160v-160H400v160Zm0 220h160v-160H400v160ZM180-400h160v-160H180v160Zm440 0h160v-160H620v160ZM180-180h160v-160H180v160Zm440 0h160v-160H620v160Z\"/>\n",
              "  </svg>\n",
              "    </button>\n",
              "\n",
              "  <style>\n",
              "    .colab-df-container {\n",
              "      display:flex;\n",
              "      gap: 12px;\n",
              "    }\n",
              "\n",
              "    .colab-df-convert {\n",
              "      background-color: #E8F0FE;\n",
              "      border: none;\n",
              "      border-radius: 50%;\n",
              "      cursor: pointer;\n",
              "      display: none;\n",
              "      fill: #1967D2;\n",
              "      height: 32px;\n",
              "      padding: 0 0 0 0;\n",
              "      width: 32px;\n",
              "    }\n",
              "\n",
              "    .colab-df-convert:hover {\n",
              "      background-color: #E2EBFA;\n",
              "      box-shadow: 0px 1px 2px rgba(60, 64, 67, 0.3), 0px 1px 3px 1px rgba(60, 64, 67, 0.15);\n",
              "      fill: #174EA6;\n",
              "    }\n",
              "\n",
              "    .colab-df-buttons div {\n",
              "      margin-bottom: 4px;\n",
              "    }\n",
              "\n",
              "    [theme=dark] .colab-df-convert {\n",
              "      background-color: #3B4455;\n",
              "      fill: #D2E3FC;\n",
              "    }\n",
              "\n",
              "    [theme=dark] .colab-df-convert:hover {\n",
              "      background-color: #434B5C;\n",
              "      box-shadow: 0px 1px 3px 1px rgba(0, 0, 0, 0.15);\n",
              "      filter: drop-shadow(0px 1px 2px rgba(0, 0, 0, 0.3));\n",
              "      fill: #FFFFFF;\n",
              "    }\n",
              "  </style>\n",
              "\n",
              "    <script>\n",
              "      const buttonEl =\n",
              "        document.querySelector('#df-ba3cf602-515d-4ab0-89a4-58c2c3ecf9a5 button.colab-df-convert');\n",
              "      buttonEl.style.display =\n",
              "        google.colab.kernel.accessAllowed ? 'block' : 'none';\n",
              "\n",
              "      async function convertToInteractive(key) {\n",
              "        const element = document.querySelector('#df-ba3cf602-515d-4ab0-89a4-58c2c3ecf9a5');\n",
              "        const dataTable =\n",
              "          await google.colab.kernel.invokeFunction('convertToInteractive',\n",
              "                                                    [key], {});\n",
              "        if (!dataTable) return;\n",
              "\n",
              "        const docLinkHtml = 'Like what you see? Visit the ' +\n",
              "          '<a target=\"_blank\" href=https://colab.research.google.com/notebooks/data_table.ipynb>data table notebook</a>'\n",
              "          + ' to learn more about interactive tables.';\n",
              "        element.innerHTML = '';\n",
              "        dataTable['output_type'] = 'display_data';\n",
              "        await google.colab.output.renderOutput(dataTable, element);\n",
              "        const docLink = document.createElement('div');\n",
              "        docLink.innerHTML = docLinkHtml;\n",
              "        element.appendChild(docLink);\n",
              "      }\n",
              "    </script>\n",
              "  </div>\n",
              "\n",
              "\n",
              "<div id=\"df-1d191e73-3c64-462f-8d3e-76bd0055bdac\">\n",
              "  <button class=\"colab-df-quickchart\" onclick=\"quickchart('df-1d191e73-3c64-462f-8d3e-76bd0055bdac')\"\n",
              "            title=\"Suggest charts.\"\n",
              "            style=\"display:none;\">\n",
              "\n",
              "<svg xmlns=\"http://www.w3.org/2000/svg\" height=\"24px\"viewBox=\"0 0 24 24\"\n",
              "     width=\"24px\">\n",
              "    <g>\n",
              "        <path d=\"M19 3H5c-1.1 0-2 .9-2 2v14c0 1.1.9 2 2 2h14c1.1 0 2-.9 2-2V5c0-1.1-.9-2-2-2zM9 17H7v-7h2v7zm4 0h-2V7h2v10zm4 0h-2v-4h2v4z\"/>\n",
              "    </g>\n",
              "</svg>\n",
              "  </button>\n",
              "\n",
              "<style>\n",
              "  .colab-df-quickchart {\n",
              "      --bg-color: #E8F0FE;\n",
              "      --fill-color: #1967D2;\n",
              "      --hover-bg-color: #E2EBFA;\n",
              "      --hover-fill-color: #174EA6;\n",
              "      --disabled-fill-color: #AAA;\n",
              "      --disabled-bg-color: #DDD;\n",
              "  }\n",
              "\n",
              "  [theme=dark] .colab-df-quickchart {\n",
              "      --bg-color: #3B4455;\n",
              "      --fill-color: #D2E3FC;\n",
              "      --hover-bg-color: #434B5C;\n",
              "      --hover-fill-color: #FFFFFF;\n",
              "      --disabled-bg-color: #3B4455;\n",
              "      --disabled-fill-color: #666;\n",
              "  }\n",
              "\n",
              "  .colab-df-quickchart {\n",
              "    background-color: var(--bg-color);\n",
              "    border: none;\n",
              "    border-radius: 50%;\n",
              "    cursor: pointer;\n",
              "    display: none;\n",
              "    fill: var(--fill-color);\n",
              "    height: 32px;\n",
              "    padding: 0;\n",
              "    width: 32px;\n",
              "  }\n",
              "\n",
              "  .colab-df-quickchart:hover {\n",
              "    background-color: var(--hover-bg-color);\n",
              "    box-shadow: 0 1px 2px rgba(60, 64, 67, 0.3), 0 1px 3px 1px rgba(60, 64, 67, 0.15);\n",
              "    fill: var(--button-hover-fill-color);\n",
              "  }\n",
              "\n",
              "  .colab-df-quickchart-complete:disabled,\n",
              "  .colab-df-quickchart-complete:disabled:hover {\n",
              "    background-color: var(--disabled-bg-color);\n",
              "    fill: var(--disabled-fill-color);\n",
              "    box-shadow: none;\n",
              "  }\n",
              "\n",
              "  .colab-df-spinner {\n",
              "    border: 2px solid var(--fill-color);\n",
              "    border-color: transparent;\n",
              "    border-bottom-color: var(--fill-color);\n",
              "    animation:\n",
              "      spin 1s steps(1) infinite;\n",
              "  }\n",
              "\n",
              "  @keyframes spin {\n",
              "    0% {\n",
              "      border-color: transparent;\n",
              "      border-bottom-color: var(--fill-color);\n",
              "      border-left-color: var(--fill-color);\n",
              "    }\n",
              "    20% {\n",
              "      border-color: transparent;\n",
              "      border-left-color: var(--fill-color);\n",
              "      border-top-color: var(--fill-color);\n",
              "    }\n",
              "    30% {\n",
              "      border-color: transparent;\n",
              "      border-left-color: var(--fill-color);\n",
              "      border-top-color: var(--fill-color);\n",
              "      border-right-color: var(--fill-color);\n",
              "    }\n",
              "    40% {\n",
              "      border-color: transparent;\n",
              "      border-right-color: var(--fill-color);\n",
              "      border-top-color: var(--fill-color);\n",
              "    }\n",
              "    60% {\n",
              "      border-color: transparent;\n",
              "      border-right-color: var(--fill-color);\n",
              "    }\n",
              "    80% {\n",
              "      border-color: transparent;\n",
              "      border-right-color: var(--fill-color);\n",
              "      border-bottom-color: var(--fill-color);\n",
              "    }\n",
              "    90% {\n",
              "      border-color: transparent;\n",
              "      border-bottom-color: var(--fill-color);\n",
              "    }\n",
              "  }\n",
              "</style>\n",
              "\n",
              "  <script>\n",
              "    async function quickchart(key) {\n",
              "      const quickchartButtonEl =\n",
              "        document.querySelector('#' + key + ' button');\n",
              "      quickchartButtonEl.disabled = true;  // To prevent multiple clicks.\n",
              "      quickchartButtonEl.classList.add('colab-df-spinner');\n",
              "      try {\n",
              "        const charts = await google.colab.kernel.invokeFunction(\n",
              "            'suggestCharts', [key], {});\n",
              "      } catch (error) {\n",
              "        console.error('Error during call to suggestCharts:', error);\n",
              "      }\n",
              "      quickchartButtonEl.classList.remove('colab-df-spinner');\n",
              "      quickchartButtonEl.classList.add('colab-df-quickchart-complete');\n",
              "    }\n",
              "    (() => {\n",
              "      let quickchartButtonEl =\n",
              "        document.querySelector('#df-1d191e73-3c64-462f-8d3e-76bd0055bdac button');\n",
              "      quickchartButtonEl.style.display =\n",
              "        google.colab.kernel.accessAllowed ? 'block' : 'none';\n",
              "    })();\n",
              "  </script>\n",
              "</div>\n",
              "    </div>\n",
              "  </div>\n"
            ],
            "text/plain": [
              "           password  strength\n",
              "0        yrtzuab476         1\n",
              "1  yEdnN9jc1NgzkkBP         2\n",
              "2          sarita99         1\n",
              "3    Suramerica2015         2\n",
              "4  PPRbMvDIxMQ19TMo         2"
            ]
          },
          "execution_count": 4,
          "metadata": {},
          "output_type": "execute_result"
        }
      ],
      "source": [
        "df.head(5)"
      ]
    },
    {
      "cell_type": "code",
      "execution_count": 5,
      "metadata": {
        "colab": {
          "base_uri": "https://localhost:8080/",
          "height": 206
        },
        "id": "TVEB4uBlVnw0",
        "outputId": "2d66d3b6-730e-434d-eb75-5b994358e271"
      },
      "outputs": [
        {
          "data": {
            "text/html": [
              "\n",
              "  <div id=\"df-64a2a4c0-8a21-4c2d-8612-141017c457ac\" class=\"colab-df-container\">\n",
              "    <div>\n",
              "<style scoped>\n",
              "    .dataframe tbody tr th:only-of-type {\n",
              "        vertical-align: middle;\n",
              "    }\n",
              "\n",
              "    .dataframe tbody tr th {\n",
              "        vertical-align: top;\n",
              "    }\n",
              "\n",
              "    .dataframe thead th {\n",
              "        text-align: right;\n",
              "    }\n",
              "</style>\n",
              "<table border=\"1\" class=\"dataframe\">\n",
              "  <thead>\n",
              "    <tr style=\"text-align: right;\">\n",
              "      <th></th>\n",
              "      <th>password</th>\n",
              "      <th>strength</th>\n",
              "    </tr>\n",
              "  </thead>\n",
              "  <tbody>\n",
              "    <tr>\n",
              "      <th>99995</th>\n",
              "      <td>aulona044</td>\n",
              "      <td>1</td>\n",
              "    </tr>\n",
              "    <tr>\n",
              "      <th>99996</th>\n",
              "      <td>5201314ding</td>\n",
              "      <td>1</td>\n",
              "    </tr>\n",
              "    <tr>\n",
              "      <th>99997</th>\n",
              "      <td>isaac19725</td>\n",
              "      <td>1</td>\n",
              "    </tr>\n",
              "    <tr>\n",
              "      <th>99998</th>\n",
              "      <td>toji25</td>\n",
              "      <td>0</td>\n",
              "    </tr>\n",
              "    <tr>\n",
              "      <th>99999</th>\n",
              "      <td>midnight000</td>\n",
              "      <td>1</td>\n",
              "    </tr>\n",
              "  </tbody>\n",
              "</table>\n",
              "</div>\n",
              "    <div class=\"colab-df-buttons\">\n",
              "\n",
              "  <div class=\"colab-df-container\">\n",
              "    <button class=\"colab-df-convert\" onclick=\"convertToInteractive('df-64a2a4c0-8a21-4c2d-8612-141017c457ac')\"\n",
              "            title=\"Convert this dataframe to an interactive table.\"\n",
              "            style=\"display:none;\">\n",
              "\n",
              "  <svg xmlns=\"http://www.w3.org/2000/svg\" height=\"24px\" viewBox=\"0 -960 960 960\">\n",
              "    <path d=\"M120-120v-720h720v720H120Zm60-500h600v-160H180v160Zm220 220h160v-160H400v160Zm0 220h160v-160H400v160ZM180-400h160v-160H180v160Zm440 0h160v-160H620v160ZM180-180h160v-160H180v160Zm440 0h160v-160H620v160Z\"/>\n",
              "  </svg>\n",
              "    </button>\n",
              "\n",
              "  <style>\n",
              "    .colab-df-container {\n",
              "      display:flex;\n",
              "      gap: 12px;\n",
              "    }\n",
              "\n",
              "    .colab-df-convert {\n",
              "      background-color: #E8F0FE;\n",
              "      border: none;\n",
              "      border-radius: 50%;\n",
              "      cursor: pointer;\n",
              "      display: none;\n",
              "      fill: #1967D2;\n",
              "      height: 32px;\n",
              "      padding: 0 0 0 0;\n",
              "      width: 32px;\n",
              "    }\n",
              "\n",
              "    .colab-df-convert:hover {\n",
              "      background-color: #E2EBFA;\n",
              "      box-shadow: 0px 1px 2px rgba(60, 64, 67, 0.3), 0px 1px 3px 1px rgba(60, 64, 67, 0.15);\n",
              "      fill: #174EA6;\n",
              "    }\n",
              "\n",
              "    .colab-df-buttons div {\n",
              "      margin-bottom: 4px;\n",
              "    }\n",
              "\n",
              "    [theme=dark] .colab-df-convert {\n",
              "      background-color: #3B4455;\n",
              "      fill: #D2E3FC;\n",
              "    }\n",
              "\n",
              "    [theme=dark] .colab-df-convert:hover {\n",
              "      background-color: #434B5C;\n",
              "      box-shadow: 0px 1px 3px 1px rgba(0, 0, 0, 0.15);\n",
              "      filter: drop-shadow(0px 1px 2px rgba(0, 0, 0, 0.3));\n",
              "      fill: #FFFFFF;\n",
              "    }\n",
              "  </style>\n",
              "\n",
              "    <script>\n",
              "      const buttonEl =\n",
              "        document.querySelector('#df-64a2a4c0-8a21-4c2d-8612-141017c457ac button.colab-df-convert');\n",
              "      buttonEl.style.display =\n",
              "        google.colab.kernel.accessAllowed ? 'block' : 'none';\n",
              "\n",
              "      async function convertToInteractive(key) {\n",
              "        const element = document.querySelector('#df-64a2a4c0-8a21-4c2d-8612-141017c457ac');\n",
              "        const dataTable =\n",
              "          await google.colab.kernel.invokeFunction('convertToInteractive',\n",
              "                                                    [key], {});\n",
              "        if (!dataTable) return;\n",
              "\n",
              "        const docLinkHtml = 'Like what you see? Visit the ' +\n",
              "          '<a target=\"_blank\" href=https://colab.research.google.com/notebooks/data_table.ipynb>data table notebook</a>'\n",
              "          + ' to learn more about interactive tables.';\n",
              "        element.innerHTML = '';\n",
              "        dataTable['output_type'] = 'display_data';\n",
              "        await google.colab.output.renderOutput(dataTable, element);\n",
              "        const docLink = document.createElement('div');\n",
              "        docLink.innerHTML = docLinkHtml;\n",
              "        element.appendChild(docLink);\n",
              "      }\n",
              "    </script>\n",
              "  </div>\n",
              "\n",
              "\n",
              "<div id=\"df-e7279341-7419-4a05-a730-59825200072d\">\n",
              "  <button class=\"colab-df-quickchart\" onclick=\"quickchart('df-e7279341-7419-4a05-a730-59825200072d')\"\n",
              "            title=\"Suggest charts.\"\n",
              "            style=\"display:none;\">\n",
              "\n",
              "<svg xmlns=\"http://www.w3.org/2000/svg\" height=\"24px\"viewBox=\"0 0 24 24\"\n",
              "     width=\"24px\">\n",
              "    <g>\n",
              "        <path d=\"M19 3H5c-1.1 0-2 .9-2 2v14c0 1.1.9 2 2 2h14c1.1 0 2-.9 2-2V5c0-1.1-.9-2-2-2zM9 17H7v-7h2v7zm4 0h-2V7h2v10zm4 0h-2v-4h2v4z\"/>\n",
              "    </g>\n",
              "</svg>\n",
              "  </button>\n",
              "\n",
              "<style>\n",
              "  .colab-df-quickchart {\n",
              "      --bg-color: #E8F0FE;\n",
              "      --fill-color: #1967D2;\n",
              "      --hover-bg-color: #E2EBFA;\n",
              "      --hover-fill-color: #174EA6;\n",
              "      --disabled-fill-color: #AAA;\n",
              "      --disabled-bg-color: #DDD;\n",
              "  }\n",
              "\n",
              "  [theme=dark] .colab-df-quickchart {\n",
              "      --bg-color: #3B4455;\n",
              "      --fill-color: #D2E3FC;\n",
              "      --hover-bg-color: #434B5C;\n",
              "      --hover-fill-color: #FFFFFF;\n",
              "      --disabled-bg-color: #3B4455;\n",
              "      --disabled-fill-color: #666;\n",
              "  }\n",
              "\n",
              "  .colab-df-quickchart {\n",
              "    background-color: var(--bg-color);\n",
              "    border: none;\n",
              "    border-radius: 50%;\n",
              "    cursor: pointer;\n",
              "    display: none;\n",
              "    fill: var(--fill-color);\n",
              "    height: 32px;\n",
              "    padding: 0;\n",
              "    width: 32px;\n",
              "  }\n",
              "\n",
              "  .colab-df-quickchart:hover {\n",
              "    background-color: var(--hover-bg-color);\n",
              "    box-shadow: 0 1px 2px rgba(60, 64, 67, 0.3), 0 1px 3px 1px rgba(60, 64, 67, 0.15);\n",
              "    fill: var(--button-hover-fill-color);\n",
              "  }\n",
              "\n",
              "  .colab-df-quickchart-complete:disabled,\n",
              "  .colab-df-quickchart-complete:disabled:hover {\n",
              "    background-color: var(--disabled-bg-color);\n",
              "    fill: var(--disabled-fill-color);\n",
              "    box-shadow: none;\n",
              "  }\n",
              "\n",
              "  .colab-df-spinner {\n",
              "    border: 2px solid var(--fill-color);\n",
              "    border-color: transparent;\n",
              "    border-bottom-color: var(--fill-color);\n",
              "    animation:\n",
              "      spin 1s steps(1) infinite;\n",
              "  }\n",
              "\n",
              "  @keyframes spin {\n",
              "    0% {\n",
              "      border-color: transparent;\n",
              "      border-bottom-color: var(--fill-color);\n",
              "      border-left-color: var(--fill-color);\n",
              "    }\n",
              "    20% {\n",
              "      border-color: transparent;\n",
              "      border-left-color: var(--fill-color);\n",
              "      border-top-color: var(--fill-color);\n",
              "    }\n",
              "    30% {\n",
              "      border-color: transparent;\n",
              "      border-left-color: var(--fill-color);\n",
              "      border-top-color: var(--fill-color);\n",
              "      border-right-color: var(--fill-color);\n",
              "    }\n",
              "    40% {\n",
              "      border-color: transparent;\n",
              "      border-right-color: var(--fill-color);\n",
              "      border-top-color: var(--fill-color);\n",
              "    }\n",
              "    60% {\n",
              "      border-color: transparent;\n",
              "      border-right-color: var(--fill-color);\n",
              "    }\n",
              "    80% {\n",
              "      border-color: transparent;\n",
              "      border-right-color: var(--fill-color);\n",
              "      border-bottom-color: var(--fill-color);\n",
              "    }\n",
              "    90% {\n",
              "      border-color: transparent;\n",
              "      border-bottom-color: var(--fill-color);\n",
              "    }\n",
              "  }\n",
              "</style>\n",
              "\n",
              "  <script>\n",
              "    async function quickchart(key) {\n",
              "      const quickchartButtonEl =\n",
              "        document.querySelector('#' + key + ' button');\n",
              "      quickchartButtonEl.disabled = true;  // To prevent multiple clicks.\n",
              "      quickchartButtonEl.classList.add('colab-df-spinner');\n",
              "      try {\n",
              "        const charts = await google.colab.kernel.invokeFunction(\n",
              "            'suggestCharts', [key], {});\n",
              "      } catch (error) {\n",
              "        console.error('Error during call to suggestCharts:', error);\n",
              "      }\n",
              "      quickchartButtonEl.classList.remove('colab-df-spinner');\n",
              "      quickchartButtonEl.classList.add('colab-df-quickchart-complete');\n",
              "    }\n",
              "    (() => {\n",
              "      let quickchartButtonEl =\n",
              "        document.querySelector('#df-e7279341-7419-4a05-a730-59825200072d button');\n",
              "      quickchartButtonEl.style.display =\n",
              "        google.colab.kernel.accessAllowed ? 'block' : 'none';\n",
              "    })();\n",
              "  </script>\n",
              "</div>\n",
              "    </div>\n",
              "  </div>\n"
            ],
            "text/plain": [
              "          password  strength\n",
              "99995    aulona044         1\n",
              "99996  5201314ding         1\n",
              "99997   isaac19725         1\n",
              "99998       toji25         0\n",
              "99999  midnight000         1"
            ]
          },
          "execution_count": 5,
          "metadata": {},
          "output_type": "execute_result"
        }
      ],
      "source": [
        "df.tail(5)"
      ]
    },
    {
      "cell_type": "markdown",
      "metadata": {
        "id": "atawgxhJW1jh"
      },
      "source": [
        "## Исследование данных"
      ]
    },
    {
      "cell_type": "markdown",
      "metadata": {
        "id": "xHpxJNzxXBTm"
      },
      "source": [
        "Размер датасета"
      ]
    },
    {
      "cell_type": "code",
      "execution_count": 6,
      "metadata": {
        "colab": {
          "base_uri": "https://localhost:8080/"
        },
        "id": "uJ9Qbor8W2vw",
        "outputId": "5f0fa101-4a89-4e09-d240-097ea13259ef"
      },
      "outputs": [
        {
          "data": {
            "text/plain": [
              "(100000, 2)"
            ]
          },
          "execution_count": 6,
          "metadata": {},
          "output_type": "execute_result"
        }
      ],
      "source": [
        "df.shape"
      ]
    },
    {
      "cell_type": "markdown",
      "metadata": {
        "id": "SHz6290wXN1b"
      },
      "source": [
        "Информация о типах данных и пропусках"
      ]
    },
    {
      "cell_type": "code",
      "execution_count": 7,
      "metadata": {
        "colab": {
          "base_uri": "https://localhost:8080/"
        },
        "id": "MjX6v2jiXOtK",
        "outputId": "6a0f2d00-eaaa-450e-ed08-5aba11304de0"
      },
      "outputs": [
        {
          "name": "stdout",
          "output_type": "stream",
          "text": [
            "<class 'pandas.core.frame.DataFrame'>\n",
            "RangeIndex: 100000 entries, 0 to 99999\n",
            "Data columns (total 2 columns):\n",
            " #   Column    Non-Null Count   Dtype \n",
            "---  ------    --------------   ----- \n",
            " 0   password  100000 non-null  object\n",
            " 1   strength  100000 non-null  int64 \n",
            "dtypes: int64(1), object(1)\n",
            "memory usage: 1.5+ MB\n"
          ]
        }
      ],
      "source": [
        "df.info()"
      ]
    },
    {
      "cell_type": "code",
      "execution_count": 8,
      "metadata": {
        "colab": {
          "base_uri": "https://localhost:8080/",
          "height": 175
        },
        "id": "DdA6igS7Y4SY",
        "outputId": "6687019e-d624-4c75-cba2-e49b34f32a6c"
      },
      "outputs": [
        {
          "data": {
            "text/html": [
              "\n",
              "  <div id=\"df-da416f0b-54c5-4ef9-8676-d1aa2c9d0863\" class=\"colab-df-container\">\n",
              "    <div>\n",
              "<style scoped>\n",
              "    .dataframe tbody tr th:only-of-type {\n",
              "        vertical-align: middle;\n",
              "    }\n",
              "\n",
              "    .dataframe tbody tr th {\n",
              "        vertical-align: top;\n",
              "    }\n",
              "\n",
              "    .dataframe thead th {\n",
              "        text-align: right;\n",
              "    }\n",
              "</style>\n",
              "<table border=\"1\" class=\"dataframe\">\n",
              "  <thead>\n",
              "    <tr style=\"text-align: right;\">\n",
              "      <th></th>\n",
              "      <th>password</th>\n",
              "    </tr>\n",
              "  </thead>\n",
              "  <tbody>\n",
              "    <tr>\n",
              "      <th>count</th>\n",
              "      <td>100000</td>\n",
              "    </tr>\n",
              "    <tr>\n",
              "      <th>unique</th>\n",
              "      <td>100000</td>\n",
              "    </tr>\n",
              "    <tr>\n",
              "      <th>top</th>\n",
              "      <td>yrtzuab476</td>\n",
              "    </tr>\n",
              "    <tr>\n",
              "      <th>freq</th>\n",
              "      <td>1</td>\n",
              "    </tr>\n",
              "  </tbody>\n",
              "</table>\n",
              "</div>\n",
              "    <div class=\"colab-df-buttons\">\n",
              "\n",
              "  <div class=\"colab-df-container\">\n",
              "    <button class=\"colab-df-convert\" onclick=\"convertToInteractive('df-da416f0b-54c5-4ef9-8676-d1aa2c9d0863')\"\n",
              "            title=\"Convert this dataframe to an interactive table.\"\n",
              "            style=\"display:none;\">\n",
              "\n",
              "  <svg xmlns=\"http://www.w3.org/2000/svg\" height=\"24px\" viewBox=\"0 -960 960 960\">\n",
              "    <path d=\"M120-120v-720h720v720H120Zm60-500h600v-160H180v160Zm220 220h160v-160H400v160Zm0 220h160v-160H400v160ZM180-400h160v-160H180v160Zm440 0h160v-160H620v160ZM180-180h160v-160H180v160Zm440 0h160v-160H620v160Z\"/>\n",
              "  </svg>\n",
              "    </button>\n",
              "\n",
              "  <style>\n",
              "    .colab-df-container {\n",
              "      display:flex;\n",
              "      gap: 12px;\n",
              "    }\n",
              "\n",
              "    .colab-df-convert {\n",
              "      background-color: #E8F0FE;\n",
              "      border: none;\n",
              "      border-radius: 50%;\n",
              "      cursor: pointer;\n",
              "      display: none;\n",
              "      fill: #1967D2;\n",
              "      height: 32px;\n",
              "      padding: 0 0 0 0;\n",
              "      width: 32px;\n",
              "    }\n",
              "\n",
              "    .colab-df-convert:hover {\n",
              "      background-color: #E2EBFA;\n",
              "      box-shadow: 0px 1px 2px rgba(60, 64, 67, 0.3), 0px 1px 3px 1px rgba(60, 64, 67, 0.15);\n",
              "      fill: #174EA6;\n",
              "    }\n",
              "\n",
              "    .colab-df-buttons div {\n",
              "      margin-bottom: 4px;\n",
              "    }\n",
              "\n",
              "    [theme=dark] .colab-df-convert {\n",
              "      background-color: #3B4455;\n",
              "      fill: #D2E3FC;\n",
              "    }\n",
              "\n",
              "    [theme=dark] .colab-df-convert:hover {\n",
              "      background-color: #434B5C;\n",
              "      box-shadow: 0px 1px 3px 1px rgba(0, 0, 0, 0.15);\n",
              "      filter: drop-shadow(0px 1px 2px rgba(0, 0, 0, 0.3));\n",
              "      fill: #FFFFFF;\n",
              "    }\n",
              "  </style>\n",
              "\n",
              "    <script>\n",
              "      const buttonEl =\n",
              "        document.querySelector('#df-da416f0b-54c5-4ef9-8676-d1aa2c9d0863 button.colab-df-convert');\n",
              "      buttonEl.style.display =\n",
              "        google.colab.kernel.accessAllowed ? 'block' : 'none';\n",
              "\n",
              "      async function convertToInteractive(key) {\n",
              "        const element = document.querySelector('#df-da416f0b-54c5-4ef9-8676-d1aa2c9d0863');\n",
              "        const dataTable =\n",
              "          await google.colab.kernel.invokeFunction('convertToInteractive',\n",
              "                                                    [key], {});\n",
              "        if (!dataTable) return;\n",
              "\n",
              "        const docLinkHtml = 'Like what you see? Visit the ' +\n",
              "          '<a target=\"_blank\" href=https://colab.research.google.com/notebooks/data_table.ipynb>data table notebook</a>'\n",
              "          + ' to learn more about interactive tables.';\n",
              "        element.innerHTML = '';\n",
              "        dataTable['output_type'] = 'display_data';\n",
              "        await google.colab.output.renderOutput(dataTable, element);\n",
              "        const docLink = document.createElement('div');\n",
              "        docLink.innerHTML = docLinkHtml;\n",
              "        element.appendChild(docLink);\n",
              "      }\n",
              "    </script>\n",
              "  </div>\n",
              "\n",
              "\n",
              "<div id=\"df-5047afe1-7557-4f92-9a34-e5dc91c9bbf7\">\n",
              "  <button class=\"colab-df-quickchart\" onclick=\"quickchart('df-5047afe1-7557-4f92-9a34-e5dc91c9bbf7')\"\n",
              "            title=\"Suggest charts.\"\n",
              "            style=\"display:none;\">\n",
              "\n",
              "<svg xmlns=\"http://www.w3.org/2000/svg\" height=\"24px\"viewBox=\"0 0 24 24\"\n",
              "     width=\"24px\">\n",
              "    <g>\n",
              "        <path d=\"M19 3H5c-1.1 0-2 .9-2 2v14c0 1.1.9 2 2 2h14c1.1 0 2-.9 2-2V5c0-1.1-.9-2-2-2zM9 17H7v-7h2v7zm4 0h-2V7h2v10zm4 0h-2v-4h2v4z\"/>\n",
              "    </g>\n",
              "</svg>\n",
              "  </button>\n",
              "\n",
              "<style>\n",
              "  .colab-df-quickchart {\n",
              "      --bg-color: #E8F0FE;\n",
              "      --fill-color: #1967D2;\n",
              "      --hover-bg-color: #E2EBFA;\n",
              "      --hover-fill-color: #174EA6;\n",
              "      --disabled-fill-color: #AAA;\n",
              "      --disabled-bg-color: #DDD;\n",
              "  }\n",
              "\n",
              "  [theme=dark] .colab-df-quickchart {\n",
              "      --bg-color: #3B4455;\n",
              "      --fill-color: #D2E3FC;\n",
              "      --hover-bg-color: #434B5C;\n",
              "      --hover-fill-color: #FFFFFF;\n",
              "      --disabled-bg-color: #3B4455;\n",
              "      --disabled-fill-color: #666;\n",
              "  }\n",
              "\n",
              "  .colab-df-quickchart {\n",
              "    background-color: var(--bg-color);\n",
              "    border: none;\n",
              "    border-radius: 50%;\n",
              "    cursor: pointer;\n",
              "    display: none;\n",
              "    fill: var(--fill-color);\n",
              "    height: 32px;\n",
              "    padding: 0;\n",
              "    width: 32px;\n",
              "  }\n",
              "\n",
              "  .colab-df-quickchart:hover {\n",
              "    background-color: var(--hover-bg-color);\n",
              "    box-shadow: 0 1px 2px rgba(60, 64, 67, 0.3), 0 1px 3px 1px rgba(60, 64, 67, 0.15);\n",
              "    fill: var(--button-hover-fill-color);\n",
              "  }\n",
              "\n",
              "  .colab-df-quickchart-complete:disabled,\n",
              "  .colab-df-quickchart-complete:disabled:hover {\n",
              "    background-color: var(--disabled-bg-color);\n",
              "    fill: var(--disabled-fill-color);\n",
              "    box-shadow: none;\n",
              "  }\n",
              "\n",
              "  .colab-df-spinner {\n",
              "    border: 2px solid var(--fill-color);\n",
              "    border-color: transparent;\n",
              "    border-bottom-color: var(--fill-color);\n",
              "    animation:\n",
              "      spin 1s steps(1) infinite;\n",
              "  }\n",
              "\n",
              "  @keyframes spin {\n",
              "    0% {\n",
              "      border-color: transparent;\n",
              "      border-bottom-color: var(--fill-color);\n",
              "      border-left-color: var(--fill-color);\n",
              "    }\n",
              "    20% {\n",
              "      border-color: transparent;\n",
              "      border-left-color: var(--fill-color);\n",
              "      border-top-color: var(--fill-color);\n",
              "    }\n",
              "    30% {\n",
              "      border-color: transparent;\n",
              "      border-left-color: var(--fill-color);\n",
              "      border-top-color: var(--fill-color);\n",
              "      border-right-color: var(--fill-color);\n",
              "    }\n",
              "    40% {\n",
              "      border-color: transparent;\n",
              "      border-right-color: var(--fill-color);\n",
              "      border-top-color: var(--fill-color);\n",
              "    }\n",
              "    60% {\n",
              "      border-color: transparent;\n",
              "      border-right-color: var(--fill-color);\n",
              "    }\n",
              "    80% {\n",
              "      border-color: transparent;\n",
              "      border-right-color: var(--fill-color);\n",
              "      border-bottom-color: var(--fill-color);\n",
              "    }\n",
              "    90% {\n",
              "      border-color: transparent;\n",
              "      border-bottom-color: var(--fill-color);\n",
              "    }\n",
              "  }\n",
              "</style>\n",
              "\n",
              "  <script>\n",
              "    async function quickchart(key) {\n",
              "      const quickchartButtonEl =\n",
              "        document.querySelector('#' + key + ' button');\n",
              "      quickchartButtonEl.disabled = true;  // To prevent multiple clicks.\n",
              "      quickchartButtonEl.classList.add('colab-df-spinner');\n",
              "      try {\n",
              "        const charts = await google.colab.kernel.invokeFunction(\n",
              "            'suggestCharts', [key], {});\n",
              "      } catch (error) {\n",
              "        console.error('Error during call to suggestCharts:', error);\n",
              "      }\n",
              "      quickchartButtonEl.classList.remove('colab-df-spinner');\n",
              "      quickchartButtonEl.classList.add('colab-df-quickchart-complete');\n",
              "    }\n",
              "    (() => {\n",
              "      let quickchartButtonEl =\n",
              "        document.querySelector('#df-5047afe1-7557-4f92-9a34-e5dc91c9bbf7 button');\n",
              "      quickchartButtonEl.style.display =\n",
              "        google.colab.kernel.accessAllowed ? 'block' : 'none';\n",
              "    })();\n",
              "  </script>\n",
              "</div>\n",
              "    </div>\n",
              "  </div>\n"
            ],
            "text/plain": [
              "          password\n",
              "count       100000\n",
              "unique      100000\n",
              "top     yrtzuab476\n",
              "freq             1"
            ]
          },
          "execution_count": 8,
          "metadata": {},
          "output_type": "execute_result"
        }
      ],
      "source": [
        "df.describe(include='object')"
      ]
    },
    {
      "cell_type": "markdown",
      "metadata": {
        "id": "rCE9LdGIXlBt"
      },
      "source": [
        "Основные числовые характеристики"
      ]
    },
    {
      "cell_type": "code",
      "execution_count": 9,
      "metadata": {
        "colab": {
          "base_uri": "https://localhost:8080/"
        },
        "id": "bhUBqBbvXmal",
        "outputId": "b6ad98b6-4940-42a5-ef0d-26849945a2b3"
      },
      "outputs": [
        {
          "data": {
            "text/plain": [
              "count    100000.000000\n",
              "mean          0.988660\n",
              "std           0.507044\n",
              "min           0.000000\n",
              "25%           1.000000\n",
              "50%           1.000000\n",
              "75%           1.000000\n",
              "max           2.000000\n",
              "Name: strength, dtype: float64"
            ]
          },
          "execution_count": 9,
          "metadata": {},
          "output_type": "execute_result"
        }
      ],
      "source": [
        "df['strength'].describe()"
      ]
    },
    {
      "cell_type": "markdown",
      "metadata": {
        "id": "FVf_IYMtYYFQ"
      },
      "source": [
        "Посмотрим на распределение оценок"
      ]
    },
    {
      "cell_type": "code",
      "execution_count": 10,
      "metadata": {
        "colab": {
          "base_uri": "https://localhost:8080/",
          "height": 449
        },
        "id": "ZA5NLujyYiIu",
        "outputId": "f9e19245-9021-486d-b798-1660f7c7976a"
      },
      "outputs": [
        {
          "data": {
            "image/png": "[encoded data removed]",
            "text/plain": [
              "<Figure size 640x480 with 1 Axes>"
            ]
          },
          "metadata": {},
          "output_type": "display_data"
        }
      ],
      "source": [
        "sns.countplot(x=df['strength'])\n",
        "plt.show()"
      ]
    },
    {
      "cell_type": "markdown",
      "metadata": {
        "id": "1hFfE-oSaY0Z"
      },
      "source": [
        "* В данных отсутствуют пропущенные значения\n",
        "* Пароли все уникальные\n",
        "* Аномалий в оценках класса пароля нет"
      ]
    },
    {
      "cell_type": "markdown",
      "metadata": {
        "id": "47zaa0-WopxD"
      },
      "source": [
        "## Добавление агрегированных признаков"
      ]
    },
    {
      "cell_type": "code",
      "execution_count": 11,
      "metadata": {
        "id": "b3U4ozYGbRyy"
      },
      "outputs": [],
      "source": [
        "from string import ascii_lowercase, ascii_uppercase, digits, punctuation"
      ]
    },
    {
      "cell_type": "markdown",
      "metadata": {
        "id": "NIFzoRQYcVmw"
      },
      "source": [
        "Функция подсчета символов изопределенного набора в пароле"
      ]
    },
    {
      "cell_type": "code",
      "execution_count": 12,
      "metadata": {
        "id": "QW3wXS5McHs0"
      },
      "outputs": [],
      "source": [
        "def check(obj:str, sample:str)->int:\n",
        "    out = 0\n",
        "    for i in obj:\n",
        "        if i in sample:\n",
        "            out += 1\n",
        "    return out\n",
        "\n",
        "def checkNot(obj:str)->int:\n",
        "            out = 0\n",
        "            for i in obj:\n",
        "                if i not in ascii_lowercase + ascii_uppercase + digits + punctuation:\n",
        "                    out +=1\n",
        "            return out"
      ]
    },
    {
      "cell_type": "markdown",
      "metadata": {
        "id": "9c8-9NIbqJQG"
      },
      "source": [
        "Функция рассчета энтропии"
      ]
    },
    {
      "cell_type": "code",
      "execution_count": 13,
      "metadata": {
        "id": "9OmsouTmqOQE"
      },
      "outputs": [],
      "source": [
        "def getEntrop(password:str)->int:\n",
        "    out = check(password, digits)\n",
        "    out += check(password, ascii_uppercase)\n",
        "    out += check(password, ascii_lowercase)\n",
        "    out *= 5.9542\n",
        "    out += (check(password, punctuation)+checkNot(password))*6.5699\n",
        "    return int(out)"
      ]
    },
    {
      "cell_type": "markdown",
      "metadata": {
        "id": "GNwVJ7URbxX5"
      },
      "source": [
        "* Колличество строчных латинских букв в пароле"
      ]
    },
    {
      "cell_type": "code",
      "execution_count": 14,
      "metadata": {
        "id": "xCzLMz5zcBJe"
      },
      "outputs": [],
      "source": [
        "df['lowCount'] = df['password'].map(lambda x:check(x, ascii_lowercase))"
      ]
    },
    {
      "cell_type": "markdown",
      "metadata": {
        "id": "-qpu56wGrUt3"
      },
      "source": [
        "* Колличество уникальных строчных латинских букв в пароле"
      ]
    },
    {
      "cell_type": "code",
      "execution_count": 15,
      "metadata": {
        "id": "TvCMA1WWrcS2"
      },
      "outputs": [],
      "source": [
        "df['UniqLowCount'] = df['password'].map(lambda x:check(set(x), ascii_lowercase))"
      ]
    },
    {
      "cell_type": "markdown",
      "metadata": {
        "id": "_JpBVxtcoV2Y"
      },
      "source": [
        "* Колличество заглавных латинских букв в пароле"
      ]
    },
    {
      "cell_type": "code",
      "execution_count": 16,
      "metadata": {
        "id": "B1hFBhp3ofmd"
      },
      "outputs": [],
      "source": [
        "df['upCount'] = df['password'].map(lambda x:check(x, ascii_uppercase))"
      ]
    },
    {
      "cell_type": "markdown",
      "metadata": {
        "id": "PDD_NsOWre1d"
      },
      "source": [
        "* Колличество уникальных заглавных латинских букв в пароле"
      ]
    },
    {
      "cell_type": "code",
      "execution_count": 17,
      "metadata": {
        "id": "bm6HKnlMriW1"
      },
      "outputs": [],
      "source": [
        "df['UniqUpCount'] = df['password'].map(lambda x:check(set(x), ascii_uppercase))"
      ]
    },
    {
      "cell_type": "markdown",
      "metadata": {
        "id": "NX90ADiTpM5i"
      },
      "source": [
        "* Колличество цифр в пароле"
      ]
    },
    {
      "cell_type": "code",
      "execution_count": 18,
      "metadata": {
        "id": "D1OLL0KkpVyI"
      },
      "outputs": [],
      "source": [
        "df['digitCount'] = df['password'].map(lambda x:check(x, digits))"
      ]
    },
    {
      "cell_type": "markdown",
      "metadata": {
        "id": "Ha7G3_zXrtUq"
      },
      "source": [
        "* Колличество уникальных цифр в пароле"
      ]
    },
    {
      "cell_type": "code",
      "execution_count": 19,
      "metadata": {
        "id": "rX-Z7dCjrwsh"
      },
      "outputs": [],
      "source": [
        "df['UniqDigitCount'] = df['password'].map(lambda x:check(set(x), digits))"
      ]
    },
    {
      "cell_type": "markdown",
      "metadata": {
        "id": "MFu4m_DXp-dG"
      },
      "source": [
        "* Колличество специальных символов в пароле"
      ]
    },
    {
      "cell_type": "code",
      "execution_count": 20,
      "metadata": {
        "id": "QvrcTbLlp_AN"
      },
      "outputs": [],
      "source": [
        "df['symbolCount'] = df['password'].map(lambda x:check(x, punctuation))"
      ]
    },
    {
      "cell_type": "markdown",
      "metadata": {
        "id": "vEAJ6AoPr6qX"
      },
      "source": [
        "* Колличество уникальных специальных символов в пароле"
      ]
    },
    {
      "cell_type": "code",
      "execution_count": 21,
      "metadata": {
        "id": "eM9_pM4dr9Tu"
      },
      "outputs": [],
      "source": [
        "df['UniqSymbolCount'] = df['password'].map(lambda x:check(set(x), punctuation))"
      ]
    },
    {
      "cell_type": "markdown",
      "metadata": {
        "id": "1Gp15OpaqhIF"
      },
      "source": [
        "* Колличество всех остальных символов которые небыли проверены ранее в пароле"
      ]
    },
    {
      "cell_type": "code",
      "execution_count": 22,
      "metadata": {
        "id": "nSA54XUhqtfS"
      },
      "outputs": [],
      "source": [
        "df['otherCount'] = df['password'].map(lambda x:checkNot(x))"
      ]
    },
    {
      "cell_type": "markdown",
      "metadata": {
        "id": "FH-gp_gWsDmj"
      },
      "source": [
        "* Колличество уникальных всех остальных символов которые небыли проверены ранее в пароле"
      ]
    },
    {
      "cell_type": "code",
      "execution_count": 23,
      "metadata": {
        "id": "Q4jhUZ0xsLdq"
      },
      "outputs": [],
      "source": [
        "df['UniqOtherCount'] = df['password'].map(lambda x:checkNot(set(x)))"
      ]
    },
    {
      "cell_type": "markdown",
      "metadata": {
        "id": "HPfzC21Tq1ZA"
      },
      "source": [
        "* Длинна пароля"
      ]
    },
    {
      "cell_type": "code",
      "execution_count": 24,
      "metadata": {
        "id": "VQBq8t8Qq6-f"
      },
      "outputs": [],
      "source": [
        "df['len'] = df['password'].map(lambda x:len(x))"
      ]
    },
    {
      "cell_type": "markdown",
      "metadata": {
        "id": "FWNQ4a5VseA-"
      },
      "source": [
        "* Колличество бит энтропии"
      ]
    },
    {
      "cell_type": "code",
      "execution_count": 25,
      "metadata": {
        "id": "GVGe2Y1arvoU"
      },
      "outputs": [],
      "source": [
        "df['entrop'] = df['password'].map(lambda x: getEntrop(x))"
      ]
    },
    {
      "cell_type": "markdown",
      "metadata": {
        "id": "P3DIdZ5N0xmo"
      },
      "source": [
        "Получившийся датасет"
      ]
    },
    {
      "cell_type": "code",
      "execution_count": 26,
      "metadata": {
        "colab": {
          "base_uri": "https://localhost:8080/",
          "height": 206
        },
        "id": "2-mm9rcfurRC",
        "outputId": "c30e3393-721b-4b86-a7e5-75d12b32aefa"
      },
      "outputs": [
        {
          "data": {
            "text/html": [
              "\n",
              "  <div id=\"df-c0f1ec1e-42e1-4680-a3ef-ea0ea03d070d\" class=\"colab-df-container\">\n",
              "    <div>\n",
              "<style scoped>\n",
              "    .dataframe tbody tr th:only-of-type {\n",
              "        vertical-align: middle;\n",
              "    }\n",
              "\n",
              "    .dataframe tbody tr th {\n",
              "        vertical-align: top;\n",
              "    }\n",
              "\n",
              "    .dataframe thead th {\n",
              "        text-align: right;\n",
              "    }\n",
              "</style>\n",
              "<table border=\"1\" class=\"dataframe\">\n",
              "  <thead>\n",
              "    <tr style=\"text-align: right;\">\n",
              "      <th></th>\n",
              "      <th>password</th>\n",
              "      <th>strength</th>\n",
              "      <th>lowCount</th>\n",
              "      <th>UniqLowCount</th>\n",
              "      <th>upCount</th>\n",
              "      <th>UniqUpCount</th>\n",
              "      <th>digitCount</th>\n",
              "      <th>UniqDigitCount</th>\n",
              "      <th>symbolCount</th>\n",
              "      <th>UniqSymbolCount</th>\n",
              "      <th>otherCount</th>\n",
              "      <th>UniqOtherCount</th>\n",
              "      <th>len</th>\n",
              "      <th>entrop</th>\n",
              "    </tr>\n",
              "  </thead>\n",
              "  <tbody>\n",
              "    <tr>\n",
              "      <th>0</th>\n",
              "      <td>yrtzuab476</td>\n",
              "      <td>1</td>\n",
              "      <td>7</td>\n",
              "      <td>7</td>\n",
              "      <td>0</td>\n",
              "      <td>0</td>\n",
              "      <td>3</td>\n",
              "      <td>3</td>\n",
              "      <td>0</td>\n",
              "      <td>0</td>\n",
              "      <td>0</td>\n",
              "      <td>0</td>\n",
              "      <td>10</td>\n",
              "      <td>59</td>\n",
              "    </tr>\n",
              "    <tr>\n",
              "      <th>1</th>\n",
              "      <td>yEdnN9jc1NgzkkBP</td>\n",
              "      <td>2</td>\n",
              "      <td>9</td>\n",
              "      <td>8</td>\n",
              "      <td>5</td>\n",
              "      <td>4</td>\n",
              "      <td>2</td>\n",
              "      <td>2</td>\n",
              "      <td>0</td>\n",
              "      <td>0</td>\n",
              "      <td>0</td>\n",
              "      <td>0</td>\n",
              "      <td>16</td>\n",
              "      <td>95</td>\n",
              "    </tr>\n",
              "    <tr>\n",
              "      <th>2</th>\n",
              "      <td>sarita99</td>\n",
              "      <td>1</td>\n",
              "      <td>6</td>\n",
              "      <td>5</td>\n",
              "      <td>0</td>\n",
              "      <td>0</td>\n",
              "      <td>2</td>\n",
              "      <td>1</td>\n",
              "      <td>0</td>\n",
              "      <td>0</td>\n",
              "      <td>0</td>\n",
              "      <td>0</td>\n",
              "      <td>8</td>\n",
              "      <td>47</td>\n",
              "    </tr>\n",
              "    <tr>\n",
              "      <th>3</th>\n",
              "      <td>Suramerica2015</td>\n",
              "      <td>2</td>\n",
              "      <td>9</td>\n",
              "      <td>7</td>\n",
              "      <td>1</td>\n",
              "      <td>1</td>\n",
              "      <td>4</td>\n",
              "      <td>4</td>\n",
              "      <td>0</td>\n",
              "      <td>0</td>\n",
              "      <td>0</td>\n",
              "      <td>0</td>\n",
              "      <td>14</td>\n",
              "      <td>83</td>\n",
              "    </tr>\n",
              "    <tr>\n",
              "      <th>4</th>\n",
              "      <td>PPRbMvDIxMQ19TMo</td>\n",
              "      <td>2</td>\n",
              "      <td>4</td>\n",
              "      <td>4</td>\n",
              "      <td>10</td>\n",
              "      <td>7</td>\n",
              "      <td>2</td>\n",
              "      <td>2</td>\n",
              "      <td>0</td>\n",
              "      <td>0</td>\n",
              "      <td>0</td>\n",
              "      <td>0</td>\n",
              "      <td>16</td>\n",
              "      <td>95</td>\n",
              "    </tr>\n",
              "  </tbody>\n",
              "</table>\n",
              "</div>\n",
              "    <div class=\"colab-df-buttons\">\n",
              "\n",
              "  <div class=\"colab-df-container\">\n",
              "    <button class=\"colab-df-convert\" onclick=\"convertToInteractive('df-c0f1ec1e-42e1-4680-a3ef-ea0ea03d070d')\"\n",
              "            title=\"Convert this dataframe to an interactive table.\"\n",
              "            style=\"display:none;\">\n",
              "\n",
              "  <svg xmlns=\"http://www.w3.org/2000/svg\" height=\"24px\" viewBox=\"0 -960 960 960\">\n",
              "    <path d=\"M120-120v-720h720v720H120Zm60-500h600v-160H180v160Zm220 220h160v-160H400v160Zm0 220h160v-160H400v160ZM180-400h160v-160H180v160Zm440 0h160v-160H620v160ZM180-180h160v-160H180v160Zm440 0h160v-160H620v160Z\"/>\n",
              "  </svg>\n",
              "    </button>\n",
              "\n",
              "  <style>\n",
              "    .colab-df-container {\n",
              "      display:flex;\n",
              "      gap: 12px;\n",
              "    }\n",
              "\n",
              "    .colab-df-convert {\n",
              "      background-color: #E8F0FE;\n",
              "      border: none;\n",
              "      border-radius: 50%;\n",
              "      cursor: pointer;\n",
              "      display: none;\n",
              "      fill: #1967D2;\n",
              "      height: 32px;\n",
              "      padding: 0 0 0 0;\n",
              "      width: 32px;\n",
              "    }\n",
              "\n",
              "    .colab-df-convert:hover {\n",
              "      background-color: #E2EBFA;\n",
              "      box-shadow: 0px 1px 2px rgba(60, 64, 67, 0.3), 0px 1px 3px 1px rgba(60, 64, 67, 0.15);\n",
              "      fill: #174EA6;\n",
              "    }\n",
              "\n",
              "    .colab-df-buttons div {\n",
              "      margin-bottom: 4px;\n",
              "    }\n",
              "\n",
              "    [theme=dark] .colab-df-convert {\n",
              "      background-color: #3B4455;\n",
              "      fill: #D2E3FC;\n",
              "    }\n",
              "\n",
              "    [theme=dark] .colab-df-convert:hover {\n",
              "      background-color: #434B5C;\n",
              "      box-shadow: 0px 1px 3px 1px rgba(0, 0, 0, 0.15);\n",
              "      filter: drop-shadow(0px 1px 2px rgba(0, 0, 0, 0.3));\n",
              "      fill: #FFFFFF;\n",
              "    }\n",
              "  </style>\n",
              "\n",
              "    <script>\n",
              "      const buttonEl =\n",
              "        document.querySelector('#df-c0f1ec1e-42e1-4680-a3ef-ea0ea03d070d button.colab-df-convert');\n",
              "      buttonEl.style.display =\n",
              "        google.colab.kernel.accessAllowed ? 'block' : 'none';\n",
              "\n",
              "      async function convertToInteractive(key) {\n",
              "        const element = document.querySelector('#df-c0f1ec1e-42e1-4680-a3ef-ea0ea03d070d');\n",
              "        const dataTable =\n",
              "          await google.colab.kernel.invokeFunction('convertToInteractive',\n",
              "                                                    [key], {});\n",
              "        if (!dataTable) return;\n",
              "\n",
              "        const docLinkHtml = 'Like what you see? Visit the ' +\n",
              "          '<a target=\"_blank\" href=https://colab.research.google.com/notebooks/data_table.ipynb>data table notebook</a>'\n",
              "          + ' to learn more about interactive tables.';\n",
              "        element.innerHTML = '';\n",
              "        dataTable['output_type'] = 'display_data';\n",
              "        await google.colab.output.renderOutput(dataTable, element);\n",
              "        const docLink = document.createElement('div');\n",
              "        docLink.innerHTML = docLinkHtml;\n",
              "        element.appendChild(docLink);\n",
              "      }\n",
              "    </script>\n",
              "  </div>\n",
              "\n",
              "\n",
              "<div id=\"df-c4f77c32-2173-479c-9b07-8cb9e1878909\">\n",
              "  <button class=\"colab-df-quickchart\" onclick=\"quickchart('df-c4f77c32-2173-479c-9b07-8cb9e1878909')\"\n",
              "            title=\"Suggest charts.\"\n",
              "            style=\"display:none;\">\n",
              "\n",
              "<svg xmlns=\"http://www.w3.org/2000/svg\" height=\"24px\"viewBox=\"0 0 24 24\"\n",
              "     width=\"24px\">\n",
              "    <g>\n",
              "        <path d=\"M19 3H5c-1.1 0-2 .9-2 2v14c0 1.1.9 2 2 2h14c1.1 0 2-.9 2-2V5c0-1.1-.9-2-2-2zM9 17H7v-7h2v7zm4 0h-2V7h2v10zm4 0h-2v-4h2v4z\"/>\n",
              "    </g>\n",
              "</svg>\n",
              "  </button>\n",
              "\n",
              "<style>\n",
              "  .colab-df-quickchart {\n",
              "      --bg-color: #E8F0FE;\n",
              "      --fill-color: #1967D2;\n",
              "      --hover-bg-color: #E2EBFA;\n",
              "      --hover-fill-color: #174EA6;\n",
              "      --disabled-fill-color: #AAA;\n",
              "      --disabled-bg-color: #DDD;\n",
              "  }\n",
              "\n",
              "  [theme=dark] .colab-df-quickchart {\n",
              "      --bg-color: #3B4455;\n",
              "      --fill-color: #D2E3FC;\n",
              "      --hover-bg-color: #434B5C;\n",
              "      --hover-fill-color: #FFFFFF;\n",
              "      --disabled-bg-color: #3B4455;\n",
              "      --disabled-fill-color: #666;\n",
              "  }\n",
              "\n",
              "  .colab-df-quickchart {\n",
              "    background-color: var(--bg-color);\n",
              "    border: none;\n",
              "    border-radius: 50%;\n",
              "    cursor: pointer;\n",
              "    display: none;\n",
              "    fill: var(--fill-color);\n",
              "    height: 32px;\n",
              "    padding: 0;\n",
              "    width: 32px;\n",
              "  }\n",
              "\n",
              "  .colab-df-quickchart:hover {\n",
              "    background-color: var(--hover-bg-color);\n",
              "    box-shadow: 0 1px 2px rgba(60, 64, 67, 0.3), 0 1px 3px 1px rgba(60, 64, 67, 0.15);\n",
              "    fill: var(--button-hover-fill-color);\n",
              "  }\n",
              "\n",
              "  .colab-df-quickchart-complete:disabled,\n",
              "  .colab-df-quickchart-complete:disabled:hover {\n",
              "    background-color: var(--disabled-bg-color);\n",
              "    fill: var(--disabled-fill-color);\n",
              "    box-shadow: none;\n",
              "  }\n",
              "\n",
              "  .colab-df-spinner {\n",
              "    border: 2px solid var(--fill-color);\n",
              "    border-color: transparent;\n",
              "    border-bottom-color: var(--fill-color);\n",
              "    animation:\n",
              "      spin 1s steps(1) infinite;\n",
              "  }\n",
              "\n",
              "  @keyframes spin {\n",
              "    0% {\n",
              "      border-color: transparent;\n",
              "      border-bottom-color: var(--fill-color);\n",
              "      border-left-color: var(--fill-color);\n",
              "    }\n",
              "    20% {\n",
              "      border-color: transparent;\n",
              "      border-left-color: var(--fill-color);\n",
              "      border-top-color: var(--fill-color);\n",
              "    }\n",
              "    30% {\n",
              "      border-color: transparent;\n",
              "      border-left-color: var(--fill-color);\n",
              "      border-top-color: var(--fill-color);\n",
              "      border-right-color: var(--fill-color);\n",
              "    }\n",
              "    40% {\n",
              "      border-color: transparent;\n",
              "      border-right-color: var(--fill-color);\n",
              "      border-top-color: var(--fill-color);\n",
              "    }\n",
              "    60% {\n",
              "      border-color: transparent;\n",
              "      border-right-color: var(--fill-color);\n",
              "    }\n",
              "    80% {\n",
              "      border-color: transparent;\n",
              "      border-right-color: var(--fill-color);\n",
              "      border-bottom-color: var(--fill-color);\n",
              "    }\n",
              "    90% {\n",
              "      border-color: transparent;\n",
              "      border-bottom-color: var(--fill-color);\n",
              "    }\n",
              "  }\n",
              "</style>\n",
              "\n",
              "  <script>\n",
              "    async function quickchart(key) {\n",
              "      const quickchartButtonEl =\n",
              "        document.querySelector('#' + key + ' button');\n",
              "      quickchartButtonEl.disabled = true;  // To prevent multiple clicks.\n",
              "      quickchartButtonEl.classList.add('colab-df-spinner');\n",
              "      try {\n",
              "        const charts = await google.colab.kernel.invokeFunction(\n",
              "            'suggestCharts', [key], {});\n",
              "      } catch (error) {\n",
              "        console.error('Error during call to suggestCharts:', error);\n",
              "      }\n",
              "      quickchartButtonEl.classList.remove('colab-df-spinner');\n",
              "      quickchartButtonEl.classList.add('colab-df-quickchart-complete');\n",
              "    }\n",
              "    (() => {\n",
              "      let quickchartButtonEl =\n",
              "        document.querySelector('#df-c4f77c32-2173-479c-9b07-8cb9e1878909 button');\n",
              "      quickchartButtonEl.style.display =\n",
              "        google.colab.kernel.accessAllowed ? 'block' : 'none';\n",
              "    })();\n",
              "  </script>\n",
              "</div>\n",
              "    </div>\n",
              "  </div>\n"
            ],
            "text/plain": [
              "           password  strength  lowCount  UniqLowCount  upCount  UniqUpCount  \\\n",
              "0        yrtzuab476         1         7             7        0            0   \n",
              "1  yEdnN9jc1NgzkkBP         2         9             8        5            4   \n",
              "2          sarita99         1         6             5        0            0   \n",
              "3    Suramerica2015         2         9             7        1            1   \n",
              "4  PPRbMvDIxMQ19TMo         2         4             4       10            7   \n",
              "\n",
              "   digitCount  UniqDigitCount  symbolCount  UniqSymbolCount  otherCount  \\\n",
              "0           3               3            0                0           0   \n",
              "1           2               2            0                0           0   \n",
              "2           2               1            0                0           0   \n",
              "3           4               4            0                0           0   \n",
              "4           2               2            0                0           0   \n",
              "\n",
              "   UniqOtherCount  len  entrop  \n",
              "0               0   10      59  \n",
              "1               0   16      95  \n",
              "2               0    8      47  \n",
              "3               0   14      83  \n",
              "4               0   16      95  "
            ]
          },
          "execution_count": 26,
          "metadata": {},
          "output_type": "execute_result"
        }
      ],
      "source": [
        "df.head(5)"
      ]
    },
    {
      "cell_type": "markdown",
      "metadata": {
        "id": "DYg8n6dw08t1"
      },
      "source": [
        "## Рассчитаем корреляцию Пирсона между целевой переменной и полученными агрегированными признаками"
      ]
    },
    {
      "cell_type": "code",
      "execution_count": 27,
      "metadata": {
        "id": "psqEQRn_2MGK"
      },
      "outputs": [],
      "source": [
        "from statistics import correlation"
      ]
    },
    {
      "cell_type": "code",
      "execution_count": 28,
      "metadata": {
        "colab": {
          "base_uri": "https://localhost:8080/"
        },
        "id": "-1-peiib1U1Q",
        "outputId": "eb451711-1ebd-4aa3-b724-c3936243617e"
      },
      "outputs": [
        {
          "name": "stdout",
          "output_type": "stream",
          "text": [
            "Коэффициент Пирсона между целевой переменной:\n",
            "len = 0.8467898548958538\n",
            "entrop = 0.8464627870103256\n",
            "UniqUpCount = 0.6237191038060655\n",
            "upCount = 0.6207212473146796\n",
            "lowCount = 0.22220348217750505\n",
            "UniqLowCount = 0.20000228066390013\n",
            "UniqDigitCount = 0.19885431738640538\n",
            "digitCount = 0.1782240220804091\n",
            "UniqSymbolCount = 0.1567852127523305\n",
            "symbolCount = 0.14864483963965375\n",
            "otherCount = 0.01042389103990635\n",
            "UniqOtherCount = 1.7830367009364316e-05\n"
          ]
        }
      ],
      "source": [
        "col = [i for i in df.columns if i not in ('password', 'strength')]\n",
        "print('Коэффициент Пирсона между целевой переменной:')\n",
        "koef = {}\n",
        "for i in col:\n",
        "    koef[i] = correlation(df['strength'], df[i])\n",
        "out = list(koef.values())\n",
        "out.sort(reverse=True)\n",
        "for i in out:\n",
        "    for j in koef.keys():\n",
        "        if koef[j] == i:\n",
        "            print(f'{j} = {i}')\n"
      ]
    },
    {
      "cell_type": "markdown",
      "metadata": {
        "id": "SaAL-KzM7bFW"
      },
      "source": [
        "Из полученных коэффициентов Пирсона видно, что имеется высокая положительная корреляция между целевой переменной и длинной пароля, а также бит энтропии. А также средняя положительная корреляция между целевой переменной и количества заглавных латинских букв и количества уникальных латинских заглавных букв. Остальные агрегированные признаки имеют слабую положительную корреляцию с целевой переменной."
      ]
    },
    {
      "cell_type": "markdown",
      "metadata": {
        "id": "hQySalh_7sU7"
      },
      "source": [
        "# Графики"
      ]
    },
    {
      "cell_type": "markdown",
      "metadata": {
        "id": "ZZsnUE4YBAd-"
      },
      "source": [
        "Тепловая карта кореляции между целевой переменной и агрегированными данными"
      ]
    },
    {
      "cell_type": "code",
      "execution_count": 29,
      "metadata": {
        "colab": {
          "base_uri": "https://localhost:8080/",
          "height": 563
        },
        "id": "1wzxnRL79TkK",
        "outputId": "6305f68a-2e43-4ae4-bf78-26c80308b6af"
      },
      "outputs": [
        {
          "data": {
            "text/plain": [
              "<Axes: >"
            ]
          },
          "execution_count": 29,
          "metadata": {},
          "output_type": "execute_result"
        },
        {
          "data": {
            "image/png": "[encoded data removed]",
            "text/plain": [
              "<Figure size 640x480 with 2 Axes>"
            ]
          },
          "metadata": {},
          "output_type": "display_data"
        }
      ],
      "source": [
        "col += ['strength']\n",
        "sns.heatmap(df[col].corr(), annot=True, fmt=\".1f\", linewidth=.5)"
      ]
    },
    {
      "cell_type": "code",
      "execution_count": 30,
      "metadata": {
        "colab": {
          "base_uri": "https://localhost:8080/",
          "height": 430
        },
        "id": "2cCLPdeYSUub",
        "outputId": "26a945ba-efff-49ed-bd19-20ddc36d5615"
      },
      "outputs": [
        {
          "data": {
            "image/png": "[encoded data removed]",
            "text/plain": [
              "<Figure size 640x480 with 1 Axes>"
            ]
          },
          "metadata": {},
          "output_type": "display_data"
        }
      ],
      "source": [
        "plt.plot(df['len'][:100], \"r\", label=\"length\")\n",
        "plt.plot(df['strength'][:100], label=\"strength\")\n",
        "plt.grid(True)\n",
        "plt.legend(loc=\"best\")\n",
        "plt.autoscale()"
      ]
    },
    {
      "cell_type": "code",
      "execution_count": 31,
      "metadata": {
        "colab": {
          "base_uri": "https://localhost:8080/",
          "height": 430
        },
        "id": "U_F_8zfxT93p",
        "outputId": "42cdd817-09a6-4732-eab2-205b35231a54"
      },
      "outputs": [
        {
          "data": {
            "image/png": "[encoded data removed]",
            "text/plain": [
              "<Figure size 640x480 with 1 Axes>"
            ]
          },
          "metadata": {},
          "output_type": "display_data"
        }
      ],
      "source": [
        "plt.plot(df['entrop'][:100], \"r\", label=\"entrop\")\n",
        "plt.plot(df['strength'][:100], label=\"strength\")\n",
        "plt.grid(True)\n",
        "plt.legend(loc=\"best\")\n",
        "plt.autoscale()"
      ]
    },
    {
      "cell_type": "code",
      "execution_count": 32,
      "metadata": {
        "colab": {
          "base_uri": "https://localhost:8080/",
          "height": 430
        },
        "id": "Pq6PsS_cUDbX",
        "outputId": "5149bc4e-334e-4874-fa6f-e7f0ea209d42"
      },
      "outputs": [
        {
          "data": {
            "image/png": "[encoded data removed]",
            "text/plain": [
              "<Figure size 640x480 with 1 Axes>"
            ]
          },
          "metadata": {},
          "output_type": "display_data"
        }
      ],
      "source": [
        "plt.plot(df['UniqUpCount'][:100], \"r\", label=\"UniqUpCount\")\n",
        "plt.plot(df['strength'][:100], label=\"strength\")\n",
        "plt.grid(True)\n",
        "plt.legend(loc=\"best\")\n",
        "plt.autoscale()"
      ]
    },
    {
      "cell_type": "code",
      "execution_count": 33,
      "metadata": {
        "colab": {
          "base_uri": "https://localhost:8080/",
          "height": 430
        },
        "id": "tmrSSD27UeXZ",
        "outputId": "3d2ec63e-4a3a-4de1-bc70-6eb490720110"
      },
      "outputs": [
        {
          "data": {
            "image/png": "[encoded data removed]",
            "text/plain": [
              "<Figure size 640x480 with 1 Axes>"
            ]
          },
          "metadata": {},
          "output_type": "display_data"
        }
      ],
      "source": [
        "plt.plot(df['upCount'][:100], \"r\", label=\"upCount\")\n",
        "plt.plot(df['strength'][:100], label=\"strength\")\n",
        "plt.grid(True)\n",
        "plt.legend(loc=\"best\")\n",
        "plt.autoscale()"
      ]
    },
    {
      "cell_type": "markdown",
      "metadata": {
        "id": "-u6vXlZISygz"
      },
      "source": [
        "Диапазон значения агрегированного признака длинна пароля для каждого класса целевой переменной"
      ]
    },
    {
      "cell_type": "code",
      "execution_count": 34,
      "metadata": {
        "colab": {
          "base_uri": "https://localhost:8080/"
        },
        "id": "ly3CE95LRl5G",
        "outputId": "f219087c-8123-42ed-e4df-528053103c42"
      },
      "outputs": [
        {
          "name": "stdout",
          "output_type": "stream",
          "text": [
            "Класс 0: min = 1 max = 7\n",
            "Класс 1: min = 8 max = 13\n",
            "Класс 2: min = 14 max = 45\n"
          ]
        }
      ],
      "source": [
        "for i in range(3):\n",
        "    col = df.loc[df['strength'].isin([i])]\n",
        "    print('Класс', i, end=': ')\n",
        "    print('min =', min(col['len']), 'max =', max(col['len']))"
      ]
    },
    {
      "cell_type": "markdown",
      "metadata": {
        "id": "2CR_Cd9HUT0B"
      },
      "source": [
        "Диапазон значения агрегированного признака энтропии для каждого класса целевой переменной"
      ]
    },
    {
      "cell_type": "code",
      "execution_count": 35,
      "metadata": {
        "colab": {
          "base_uri": "https://localhost:8080/"
        },
        "id": "9dXdyqRJUTHx",
        "outputId": "6b5dd9f1-2fbc-4a50-d712-1fb2be2acf1e"
      },
      "outputs": [
        {
          "name": "stdout",
          "output_type": "stream",
          "text": [
            "Класс 0: min = 5 max = 45\n",
            "Класс 1: min = 47 max = 81\n",
            "Класс 2: min = 83 max = 271\n"
          ]
        }
      ],
      "source": [
        "for i in range(3):\n",
        "    col = df.loc[df['strength'].isin([i])]\n",
        "    print('Класс', i, end=': ')\n",
        "    print('min =', min(col['entrop']), 'max =', max(col['entrop']))"
      ]
    },
    {
      "cell_type": "markdown",
      "metadata": {
        "id": "YBwMfrubU6ln"
      },
      "source": [
        "Диапазон значения агрегированного признака уникальные заглавные буквы латинского алфавита для каждого класса целевой переменной"
      ]
    },
    {
      "cell_type": "code",
      "execution_count": 36,
      "metadata": {
        "colab": {
          "base_uri": "https://localhost:8080/"
        },
        "id": "mdRxpLPAU4AY",
        "outputId": "3950b1b4-6ebc-41c0-9cd7-6ceface38892"
      },
      "outputs": [
        {
          "name": "stdout",
          "output_type": "stream",
          "text": [
            "Класс 0: min = 0 max = 6\n",
            "Класс 1: min = 0 max = 10\n",
            "Класс 2: min = 0 max = 15\n"
          ]
        }
      ],
      "source": [
        "for i in range(3):\n",
        "    col = df.loc[df['strength'].isin([i])]\n",
        "    print('Класс', i, end=': ')\n",
        "    print('min =', min(col['UniqUpCount']), 'max =', max(col['UniqUpCount']))"
      ]
    },
    {
      "cell_type": "markdown",
      "metadata": {
        "id": "e7nfUZ5tVTT5"
      },
      "source": [
        "Диапазон значения агрегированного признака заглавные буквы латинского алфавита для каждого класса целевой переменной"
      ]
    },
    {
      "cell_type": "code",
      "execution_count": 37,
      "metadata": {
        "colab": {
          "base_uri": "https://localhost:8080/"
        },
        "id": "FGKxCCfHVXIa",
        "outputId": "28e0acf9-c36f-40e5-a1a2-8ba7c07156b6"
      },
      "outputs": [
        {
          "name": "stdout",
          "output_type": "stream",
          "text": [
            "Класс 0: min = 0 max = 6\n",
            "Класс 1: min = 0 max = 12\n",
            "Класс 2: min = 0 max = 19\n"
          ]
        }
      ],
      "source": [
        "for i in range(3):\n",
        "    col = df.loc[df['strength'].isin([i])]\n",
        "    print('Класс', i, end=': ')\n",
        "    print('min =', min(col['upCount']), 'max =', max(col['upCount']))"
      ]
    },
    {
      "cell_type": "markdown",
      "metadata": {
        "id": "hPVQy8dTQynz"
      },
      "source": [
        "# Построение модели"
      ]
    },
    {
      "cell_type": "markdown",
      "metadata": {
        "id": "YuwMqHp1VilG"
      },
      "source": [
        "Из полученных данных диапазона значений длинны пароля, а также количества энтропии для каждого класса пароля можно увидеть четкое однозначное разделения на три класса."
      ]
    },
    {
      "cell_type": "markdown",
      "metadata": {
        "id": "3bcSuHfvuAgv"
      },
      "source": [
        "Разобьем датасет на тренировочную и тестовую выборку"
      ]
    },
    {
      "cell_type": "code",
      "execution_count": 38,
      "metadata": {
        "id": "2myEGE0Guaa4"
      },
      "outputs": [],
      "source": [
        "from sklearn.model_selection import train_test_split\n",
        "from sklearn.metrics import classification_report"
      ]
    },
    {
      "cell_type": "code",
      "execution_count": 39,
      "metadata": {
        "id": "_fRdajJ3vOXb"
      },
      "outputs": [],
      "source": [
        "dataMetr = pd.DataFrame()\n",
        "xCol = [i for i in df.columns if i not in ('strength')]\n",
        "yCol = 'strength'\n",
        "x_train, x_test, y_train, y_test = train_test_split(df[xCol],\n",
        "                                                    df[yCol],\n",
        "                                                    test_size=0.25,\n",
        "                                                    random_state=1024)\n",
        "dataMetr['strength'] = y_test\n"
      ]
    },
    {
      "cell_type": "code",
      "execution_count": 40,
      "metadata": {
        "id": "TRkkAqqIEA_t"
      },
      "outputs": [],
      "source": [
        "import pickle"
      ]
    },
    {
      "cell_type": "code",
      "execution_count": 41,
      "metadata": {
        "id": "HA2OVCDXEEMM"
      },
      "outputs": [],
      "source": [
        "def saveModel(model, name:str)->None:\n",
        "    urlMod = r'/content/drive/MyDrive/DATA/SBER/model/'\n",
        "    with open(urlMod+name+'.pickle', 'wb') as file:\n",
        "        pickle.dump(model, file)"
      ]
    },
    {
      "cell_type": "markdown",
      "metadata": {
        "id": "0b6TOjrRjeuC"
      },
      "source": [
        "## Классификатор построенный на основыве сведений о длине пароля"
      ]
    },
    {
      "cell_type": "code",
      "execution_count": 42,
      "metadata": {
        "id": "28SKdTMARDeH"
      },
      "outputs": [],
      "source": [
        "def checkLenPassword(password:str)->int:\n",
        "    if len(password) == 0:\n",
        "        raise ValueError('Пароль не должен быть пустым')\n",
        "    if 0 < len(password) <= 7:\n",
        "        return 0\n",
        "    elif 8 <= len(password) <= 13:\n",
        "        return 1\n",
        "    elif 14 <= len(password):\n",
        "        return 2\n"
      ]
    },
    {
      "cell_type": "markdown",
      "metadata": {
        "id": "p9P6jmGgw0aM"
      },
      "source": [
        "Проверим классификатор на тестовой выборке"
      ]
    },
    {
      "cell_type": "code",
      "execution_count": 45,
      "metadata": {
        "id": "DEUI2_9Jw8MP"
      },
      "outputs": [],
      "source": [
        "dataMetr['chkLen'] = x_test['password'].map(checkLenPassword)"
      ]
    },
    {
      "cell_type": "code",
      "execution_count": 46,
      "metadata": {
        "colab": {
          "base_uri": "https://localhost:8080/"
        },
        "id": "bfzBy02_0Rbx",
        "outputId": "c43c7d3a-e5d6-40e4-9dd4-032bf4ea8334"
      },
      "outputs": [
        {
          "name": "stdout",
          "output_type": "stream",
          "text": [
            "              precision    recall  f1-score   support\n",
            "\n",
            "     class 0       1.00      1.00      1.00      3324\n",
            "     class 1       1.00      1.00      1.00     18607\n",
            "     class 2       1.00      1.00      1.00      3069\n",
            "\n",
            "    accuracy                           1.00     25000\n",
            "   macro avg       1.00      1.00      1.00     25000\n",
            "weighted avg       1.00      1.00      1.00     25000\n",
            "\n"
          ]
        }
      ],
      "source": [
        "target_names = ['class 0', 'class 1', 'class 2']\n",
        "print(classification_report(dataMetr['strength'], dataMetr['chkLen'], target_names=target_names))"
      ]
    },
    {
      "cell_type": "markdown",
      "metadata": {
        "id": "_-c-uC4TncMS"
      },
      "source": [
        "## Классификатор построенный на основыве сведений о энтропии пароля"
      ]
    },
    {
      "cell_type": "code",
      "execution_count": 47,
      "metadata": {
        "id": "QNqKYudEnd2S"
      },
      "outputs": [],
      "source": [
        "def checkEntropPassword(password:str)->int:\n",
        "    dataEntrop = getEntrop(password)\n",
        "    if len(password) == 0:\n",
        "        raise ValueError('Пароль не должен быть пустым')\n",
        "    if dataEntrop < 47:\n",
        "        return 0\n",
        "    elif 47 <= dataEntrop <= 82:\n",
        "        return 1\n",
        "    elif dataEntrop >= 83:\n",
        "        return 2\n"
      ]
    },
    {
      "cell_type": "markdown",
      "metadata": {
        "id": "tfiM0JCEyLvq"
      },
      "source": [
        "Проверим классификатор на тестовой выборке"
      ]
    },
    {
      "cell_type": "code",
      "execution_count": 48,
      "metadata": {
        "id": "mLdSbL_PySGR"
      },
      "outputs": [],
      "source": [
        "dataMetr['chkEnt'] = x_test['password'].map(checkEntropPassword)"
      ]
    },
    {
      "cell_type": "code",
      "execution_count": 49,
      "metadata": {
        "colab": {
          "base_uri": "https://localhost:8080/"
        },
        "id": "tlsFtC7H0_hU",
        "outputId": "c75d0979-69ac-4ad4-b4aa-4e7d8a614617"
      },
      "outputs": [
        {
          "name": "stdout",
          "output_type": "stream",
          "text": [
            "              precision    recall  f1-score   support\n",
            "\n",
            "     class 0       1.00      1.00      1.00      3324\n",
            "     class 1       1.00      1.00      1.00     18607\n",
            "     class 2       1.00      1.00      1.00      3069\n",
            "\n",
            "    accuracy                           1.00     25000\n",
            "   macro avg       1.00      1.00      1.00     25000\n",
            "weighted avg       1.00      1.00      1.00     25000\n",
            "\n"
          ]
        }
      ],
      "source": [
        "print(classification_report(dataMetr['strength'], dataMetr['chkEnt'], target_names=target_names))"
      ]
    },
    {
      "cell_type": "markdown",
      "metadata": {
        "id": "MOcb9nBH6DrR"
      },
      "source": [
        "## Логистическая регрессия"
      ]
    },
    {
      "cell_type": "markdown",
      "metadata": {
        "id": "Bdy50MIUiqDf"
      },
      "source": [
        "Данный метод входит в топ часто используемых алгоритмов. Данный метод обладает следующими свойствами - простота, скорость, наглядность. Алгоритм решения newton-cg выбран, потому что он имеет следующие преимущества:\n",
        " эффективен т.к. он быстрее сходится чем, к примеру метод\n",
        "\n",
        "*   Эффективность: быстрее сходится чем, по сравнению с некоторыми другими методами например методом Ньютона.\n",
        "*   Масштабируемость: хорошо работает с задачами высокой размерности.\n",
        "*   Глобальная сходимость: данный метод может гарантировать глобальную сходимость по сравнению с некоторыми другими методами к примеру все того же метода Ньютона."
      ]
    },
    {
      "cell_type": "code",
      "execution_count": 51,
      "metadata": {
        "id": "MZ8V219Y6eZq"
      },
      "outputs": [],
      "source": [
        "from sklearn.linear_model import LogisticRegression"
      ]
    },
    {
      "cell_type": "code",
      "execution_count": 52,
      "metadata": {
        "id": "A5kUCK3q6jhI"
      },
      "outputs": [],
      "source": [
        "lrModel = LogisticRegression( solver='newton-cg', random_state=1024, max_iter=150)\n",
        "xCol = ['len', 'entrop', 'UniqUpCount', 'upCount']"
      ]
    },
    {
      "cell_type": "code",
      "execution_count": 54,
      "metadata": {
        "colab": {
          "base_uri": "https://localhost:8080/",
          "height": 109
        },
        "id": "NKXZ1I8iz27M",
        "outputId": "cd57f2ea-eb90-4231-d526-9920cc1a7b4a"
      },
      "outputs": [
        {
          "name": "stdout",
          "output_type": "stream",
          "text": [
            "CPU times: user 14.6 s, sys: 9.35 s, total: 24 s\n",
            "Wall time: 16.6 s\n"
          ]
        },
        {
          "data": {
            "text/html": [
              "<style>#sk-container-id-2 {color: black;background-color: white;}#sk-container-id-2 pre{padding: 0;}#sk-container-id-2 div.sk-toggleable {background-color: white;}#sk-container-id-2 label.sk-toggleable__label {cursor: pointer;display: block;width: 100%;margin-bottom: 0;padding: 0.3em;box-sizing: border-box;text-align: center;}#sk-container-id-2 label.sk-toggleable__label-arrow:before {content: \"▸\";float: left;margin-right: 0.25em;color: #696969;}#sk-container-id-2 label.sk-toggleable__label-arrow:hover:before {color: black;}#sk-container-id-2 div.sk-estimator:hover label.sk-toggleable__label-arrow:before {color: black;}#sk-container-id-2 div.sk-toggleable__content {max-height: 0;max-width: 0;overflow: hidden;text-align: left;background-color: #f0f8ff;}#sk-container-id-2 div.sk-toggleable__content pre {margin: 0.2em;color: black;border-radius: 0.25em;background-color: #f0f8ff;}#sk-container-id-2 input.sk-toggleable__control:checked~div.sk-toggleable__content {max-height: 200px;max-width: 100%;overflow: auto;}#sk-container-id-2 input.sk-toggleable__control:checked~label.sk-toggleable__label-arrow:before {content: \"▾\";}#sk-container-id-2 div.sk-estimator input.sk-toggleable__control:checked~label.sk-toggleable__label {background-color: #d4ebff;}#sk-container-id-2 div.sk-label input.sk-toggleable__control:checked~label.sk-toggleable__label {background-color: #d4ebff;}#sk-container-id-2 input.sk-hidden--visually {border: 0;clip: rect(1px 1px 1px 1px);clip: rect(1px, 1px, 1px, 1px);height: 1px;margin: -1px;overflow: hidden;padding: 0;position: absolute;width: 1px;}#sk-container-id-2 div.sk-estimator {font-family: monospace;background-color: #f0f8ff;border: 1px dotted black;border-radius: 0.25em;box-sizing: border-box;margin-bottom: 0.5em;}#sk-container-id-2 div.sk-estimator:hover {background-color: #d4ebff;}#sk-container-id-2 div.sk-parallel-item::after {content: \"\";width: 100%;border-bottom: 1px solid gray;flex-grow: 1;}#sk-container-id-2 div.sk-label:hover label.sk-toggleable__label {background-color: #d4ebff;}#sk-container-id-2 div.sk-serial::before {content: \"\";position: absolute;border-left: 1px solid gray;box-sizing: border-box;top: 0;bottom: 0;left: 50%;z-index: 0;}#sk-container-id-2 div.sk-serial {display: flex;flex-direction: column;align-items: center;background-color: white;padding-right: 0.2em;padding-left: 0.2em;position: relative;}#sk-container-id-2 div.sk-item {position: relative;z-index: 1;}#sk-container-id-2 div.sk-parallel {display: flex;align-items: stretch;justify-content: center;background-color: white;position: relative;}#sk-container-id-2 div.sk-item::before, #sk-container-id-2 div.sk-parallel-item::before {content: \"\";position: absolute;border-left: 1px solid gray;box-sizing: border-box;top: 0;bottom: 0;left: 50%;z-index: -1;}#sk-container-id-2 div.sk-parallel-item {display: flex;flex-direction: column;z-index: 1;position: relative;background-color: white;}#sk-container-id-2 div.sk-parallel-item:first-child::after {align-self: flex-end;width: 50%;}#sk-container-id-2 div.sk-parallel-item:last-child::after {align-self: flex-start;width: 50%;}#sk-container-id-2 div.sk-parallel-item:only-child::after {width: 0;}#sk-container-id-2 div.sk-dashed-wrapped {border: 1px dashed gray;margin: 0 0.4em 0.5em 0.4em;box-sizing: border-box;padding-bottom: 0.4em;background-color: white;}#sk-container-id-2 div.sk-label label {font-family: monospace;font-weight: bold;display: inline-block;line-height: 1.2em;}#sk-container-id-2 div.sk-label-container {text-align: center;}#sk-container-id-2 div.sk-container {/* jupyter's `normalize.less` sets `[hidden] { display: none; }` but bootstrap.min.css set `[hidden] { display: none !important; }` so we also need the `!important` here to be able to override the default hidden behavior on the sphinx rendered scikit-learn.org. See: https://github.com/scikit-learn/scikit-learn/issues/21755 */display: inline-block !important;position: relative;}#sk-container-id-2 div.sk-text-repr-fallback {display: none;}</style><div id=\"sk-container-id-2\" class=\"sk-top-container\"><div class=\"sk-text-repr-fallback\"><pre>LogisticRegression(max_iter=150, random_state=1024, solver=&#x27;newton-cg&#x27;)</pre><b>In a Jupyter environment, please rerun this cell to show the HTML representation or trust the notebook. <br />On GitHub, the HTML representation is unable to render, please try loading this page with nbviewer.org.</b></div><div class=\"sk-container\" hidden><div class=\"sk-item\"><div class=\"sk-estimator sk-toggleable\"><input class=\"sk-toggleable__control sk-hidden--visually\" id=\"sk-estimator-id-2\" type=\"checkbox\" checked><label for=\"sk-estimator-id-2\" class=\"sk-toggleable__label sk-toggleable__label-arrow\">LogisticRegression</label><div class=\"sk-toggleable__content\"><pre>LogisticRegression(max_iter=150, random_state=1024, solver=&#x27;newton-cg&#x27;)</pre></div></div></div></div></div>"
            ],
            "text/plain": [
              "LogisticRegression(max_iter=150, random_state=1024, solver='newton-cg')"
            ]
          },
          "execution_count": 54,
          "metadata": {},
          "output_type": "execute_result"
        }
      ],
      "source": [
        "%time lrModel.fit(x_train[xCol], y_train)"
      ]
    },
    {
      "cell_type": "code",
      "execution_count": 55,
      "metadata": {
        "id": "mJxIbjRs8Mvu"
      },
      "outputs": [],
      "source": [
        "dataMetr['lr'] = lrModel.predict(x_test[xCol])"
      ]
    },
    {
      "cell_type": "code",
      "execution_count": 56,
      "metadata": {
        "colab": {
          "base_uri": "https://localhost:8080/"
        },
        "id": "iut80t9P9w4k",
        "outputId": "bc617524-2916-4bed-edb8-dca0547db4cf"
      },
      "outputs": [
        {
          "name": "stdout",
          "output_type": "stream",
          "text": [
            "              precision    recall  f1-score   support\n",
            "\n",
            "     class 0       1.00      1.00      1.00      3324\n",
            "     class 1       1.00      1.00      1.00     18607\n",
            "     class 2       1.00      1.00      1.00      3069\n",
            "\n",
            "    accuracy                           1.00     25000\n",
            "   macro avg       1.00      1.00      1.00     25000\n",
            "weighted avg       1.00      1.00      1.00     25000\n",
            "\n"
          ]
        }
      ],
      "source": [
        "print(classification_report(dataMetr['strength'], dataMetr['lr'], target_names=target_names))"
      ]
    },
    {
      "cell_type": "markdown",
      "metadata": {
        "id": "c8O-hHUFVKkT"
      },
      "source": [
        "Сохранить обученную модель"
      ]
    },
    {
      "cell_type": "code",
      "execution_count": 57,
      "metadata": {
        "id": "7Z_z2VUaU1rp"
      },
      "outputs": [],
      "source": [
        "saveModel(lrModel, 'lrModel')"
      ]
    },
    {
      "cell_type": "markdown",
      "metadata": {
        "id": "G_nqoz3HGzXH"
      },
      "source": [
        "Коэффициенты для каждого класса"
      ]
    },
    {
      "cell_type": "code",
      "execution_count": 58,
      "metadata": {
        "colab": {
          "base_uri": "https://localhost:8080/"
        },
        "id": "V0HxIy3ZFat-",
        "outputId": "ad753f7e-05ee-4e46-c449-d7e44e6aa3aa"
      },
      "outputs": [
        {
          "name": "stdout",
          "output_type": "stream",
          "text": [
            "Класс 0\n",
            "\tlen: -1.4449235316018367\n",
            "\tentrop: -3.100422805024245\n",
            "\tUniqUpCount: -0.0796127081759486\n",
            "\tupCount: -0.08706815552892301\n",
            "Класс 1\n",
            "\tlen: -1.4449235316018367\n",
            "\tentrop: -3.100422805024245\n",
            "\tUniqUpCount: -0.0796127081759486\n",
            "\tupCount: -0.08706815552892301\n",
            "Класс 2\n",
            "\tlen: -1.4449235316018367\n",
            "\tentrop: -3.100422805024245\n",
            "\tUniqUpCount: -0.0796127081759486\n",
            "\tupCount: -0.08706815552892301\n"
          ]
        }
      ],
      "source": [
        "nameCol = ['len', 'entrop', 'UniqUpCount', 'upCount']\n",
        "for i in range(3):\n",
        "    print('Класс', i)\n",
        "    for j, val in enumerate(nameCol):\n",
        "        print(f'\\t{val}: {lrModel.coef_[0][j]}')"
      ]
    },
    {
      "cell_type": "markdown",
      "metadata": {
        "id": "UyVeTxugKWBd"
      },
      "source": [
        "Из значений коэффициентов видно что основной вклад внесли значения длинны пароля и энтропии"
      ]
    },
    {
      "cell_type": "markdown",
      "metadata": {
        "id": "CCm7lfsgLg_S"
      },
      "source": [
        "## Метод опорных векторов"
      ]
    },
    {
      "cell_type": "markdown",
      "metadata": {
        "id": "TgJpbOX1oLwU"
      },
      "source": [
        "Метод опорных векторов представляет собой мощный и гибкий инструмент для мультиклассовой классификации, и его преимущества включают эффективность, хорошую обобщающую способность, работу с нелинейными данными, устойчивость к выбросам и возможность работы с высокоразмерными данными."
      ]
    },
    {
      "cell_type": "markdown",
      "metadata": {
        "id": "W1Qy9Z9lqlyo"
      },
      "source": [
        "В качестве функции ядра выбрана функция RBF данная функция является функцией по умолчанию и имеет следующие преимущества:\n",
        "\n",
        "\n",
        "*    Работа с нелинейными данными: позволяет модели строить нелинейные разделяющие поверхности.\n",
        "*    Гибкость: позволяет модели адаптироваться к различным типам данных.\n",
        "*   Универсальность:  может аппроксимировать любую непрерывную функцию.\n",
        "*   Устойчивость к выбросам: обладает свойством гладкости и глобальной определенности, что в свою очередьделает модель устойчивой к выбросам в данных и помогает предотвратить переобучение.\n",
        "*    Высокая точность: демонстрирует высокую точность классификации. Может обеспечить хорошую разделимость классов и хорошую обобщающую способность модели.\n",
        "\n",
        "\n"
      ]
    },
    {
      "cell_type": "code",
      "execution_count": 59,
      "metadata": {
        "id": "uOCEt-EoKzm-"
      },
      "outputs": [],
      "source": [
        "from sklearn.svm import SVC"
      ]
    },
    {
      "cell_type": "code",
      "execution_count": null,
      "metadata": {
        "id": "oYat3_cTMcKr"
      },
      "outputs": [],
      "source": [
        "svcModel = SVC(kernel='rbf')"
      ]
    },
    {
      "cell_type": "code",
      "execution_count": 61,
      "metadata": {
        "colab": {
          "base_uri": "https://localhost:8080/",
          "height": 109
        },
        "id": "kwiUWyzr0Sql",
        "outputId": "27933f66-635e-4b8f-e584-7a9c241b92c0"
      },
      "outputs": [
        {
          "name": "stdout",
          "output_type": "stream",
          "text": [
            "CPU times: user 1.07 s, sys: 69.8 ms, total: 1.14 s\n",
            "Wall time: 1.16 s\n"
          ]
        },
        {
          "data": {
            "text/html": [
              "<style>#sk-container-id-4 {color: black;background-color: white;}#sk-container-id-4 pre{padding: 0;}#sk-container-id-4 div.sk-toggleable {background-color: white;}#sk-container-id-4 label.sk-toggleable__label {cursor: pointer;display: block;width: 100%;margin-bottom: 0;padding: 0.3em;box-sizing: border-box;text-align: center;}#sk-container-id-4 label.sk-toggleable__label-arrow:before {content: \"▸\";float: left;margin-right: 0.25em;color: #696969;}#sk-container-id-4 label.sk-toggleable__label-arrow:hover:before {color: black;}#sk-container-id-4 div.sk-estimator:hover label.sk-toggleable__label-arrow:before {color: black;}#sk-container-id-4 div.sk-toggleable__content {max-height: 0;max-width: 0;overflow: hidden;text-align: left;background-color: #f0f8ff;}#sk-container-id-4 div.sk-toggleable__content pre {margin: 0.2em;color: black;border-radius: 0.25em;background-color: #f0f8ff;}#sk-container-id-4 input.sk-toggleable__control:checked~div.sk-toggleable__content {max-height: 200px;max-width: 100%;overflow: auto;}#sk-container-id-4 input.sk-toggleable__control:checked~label.sk-toggleable__label-arrow:before {content: \"▾\";}#sk-container-id-4 div.sk-estimator input.sk-toggleable__control:checked~label.sk-toggleable__label {background-color: #d4ebff;}#sk-container-id-4 div.sk-label input.sk-toggleable__control:checked~label.sk-toggleable__label {background-color: #d4ebff;}#sk-container-id-4 input.sk-hidden--visually {border: 0;clip: rect(1px 1px 1px 1px);clip: rect(1px, 1px, 1px, 1px);height: 1px;margin: -1px;overflow: hidden;padding: 0;position: absolute;width: 1px;}#sk-container-id-4 div.sk-estimator {font-family: monospace;background-color: #f0f8ff;border: 1px dotted black;border-radius: 0.25em;box-sizing: border-box;margin-bottom: 0.5em;}#sk-container-id-4 div.sk-estimator:hover {background-color: #d4ebff;}#sk-container-id-4 div.sk-parallel-item::after {content: \"\";width: 100%;border-bottom: 1px solid gray;flex-grow: 1;}#sk-container-id-4 div.sk-label:hover label.sk-toggleable__label {background-color: #d4ebff;}#sk-container-id-4 div.sk-serial::before {content: \"\";position: absolute;border-left: 1px solid gray;box-sizing: border-box;top: 0;bottom: 0;left: 50%;z-index: 0;}#sk-container-id-4 div.sk-serial {display: flex;flex-direction: column;align-items: center;background-color: white;padding-right: 0.2em;padding-left: 0.2em;position: relative;}#sk-container-id-4 div.sk-item {position: relative;z-index: 1;}#sk-container-id-4 div.sk-parallel {display: flex;align-items: stretch;justify-content: center;background-color: white;position: relative;}#sk-container-id-4 div.sk-item::before, #sk-container-id-4 div.sk-parallel-item::before {content: \"\";position: absolute;border-left: 1px solid gray;box-sizing: border-box;top: 0;bottom: 0;left: 50%;z-index: -1;}#sk-container-id-4 div.sk-parallel-item {display: flex;flex-direction: column;z-index: 1;position: relative;background-color: white;}#sk-container-id-4 div.sk-parallel-item:first-child::after {align-self: flex-end;width: 50%;}#sk-container-id-4 div.sk-parallel-item:last-child::after {align-self: flex-start;width: 50%;}#sk-container-id-4 div.sk-parallel-item:only-child::after {width: 0;}#sk-container-id-4 div.sk-dashed-wrapped {border: 1px dashed gray;margin: 0 0.4em 0.5em 0.4em;box-sizing: border-box;padding-bottom: 0.4em;background-color: white;}#sk-container-id-4 div.sk-label label {font-family: monospace;font-weight: bold;display: inline-block;line-height: 1.2em;}#sk-container-id-4 div.sk-label-container {text-align: center;}#sk-container-id-4 div.sk-container {/* jupyter's `normalize.less` sets `[hidden] { display: none; }` but bootstrap.min.css set `[hidden] { display: none !important; }` so we also need the `!important` here to be able to override the default hidden behavior on the sphinx rendered scikit-learn.org. See: https://github.com/scikit-learn/scikit-learn/issues/21755 */display: inline-block !important;position: relative;}#sk-container-id-4 div.sk-text-repr-fallback {display: none;}</style><div id=\"sk-container-id-4\" class=\"sk-top-container\"><div class=\"sk-text-repr-fallback\"><pre>SVC()</pre><b>In a Jupyter environment, please rerun this cell to show the HTML representation or trust the notebook. <br />On GitHub, the HTML representation is unable to render, please try loading this page with nbviewer.org.</b></div><div class=\"sk-container\" hidden><div class=\"sk-item\"><div class=\"sk-estimator sk-toggleable\"><input class=\"sk-toggleable__control sk-hidden--visually\" id=\"sk-estimator-id-4\" type=\"checkbox\" checked><label for=\"sk-estimator-id-4\" class=\"sk-toggleable__label sk-toggleable__label-arrow\">SVC</label><div class=\"sk-toggleable__content\"><pre>SVC()</pre></div></div></div></div></div>"
            ],
            "text/plain": [
              "SVC()"
            ]
          },
          "execution_count": 61,
          "metadata": {},
          "output_type": "execute_result"
        }
      ],
      "source": [
        "%time svcModel.fit(x_train[xCol], y_train)"
      ]
    },
    {
      "cell_type": "code",
      "execution_count": 62,
      "metadata": {
        "id": "7nSnaY1MM7CT"
      },
      "outputs": [],
      "source": [
        "dataMetr['svc'] = svcModel.predict(x_test[xCol])"
      ]
    },
    {
      "cell_type": "code",
      "execution_count": 63,
      "metadata": {
        "colab": {
          "base_uri": "https://localhost:8080/"
        },
        "id": "YiRorex5NFAA",
        "outputId": "fbef3231-1fe2-460c-9975-84a550e0da3b"
      },
      "outputs": [
        {
          "name": "stdout",
          "output_type": "stream",
          "text": [
            "              precision    recall  f1-score   support\n",
            "\n",
            "     class 0       1.00      1.00      1.00      3324\n",
            "     class 1       1.00      1.00      1.00     18607\n",
            "     class 2       1.00      1.00      1.00      3069\n",
            "\n",
            "    accuracy                           1.00     25000\n",
            "   macro avg       1.00      1.00      1.00     25000\n",
            "weighted avg       1.00      1.00      1.00     25000\n",
            "\n"
          ]
        }
      ],
      "source": [
        "print(classification_report(dataMetr['strength'], dataMetr['svc'], target_names=target_names))"
      ]
    },
    {
      "cell_type": "markdown",
      "metadata": {
        "id": "VNUGs1DpVaCW"
      },
      "source": [
        "Сохранить обученную модель"
      ]
    },
    {
      "cell_type": "code",
      "execution_count": 64,
      "metadata": {
        "id": "LemtsVFqVjBt"
      },
      "outputs": [],
      "source": [
        "saveModel(svcModel, 'svcModel')"
      ]
    },
    {
      "cell_type": "markdown",
      "metadata": {
        "id": "njBsRcTQN4UD"
      },
      "source": [
        "## Градиентный бустинг"
      ]
    },
    {
      "cell_type": "markdown",
      "metadata": {
        "id": "_NsXuMgduxBw"
      },
      "source": [
        "Преимущества градиентного бустинга:\n",
        "*\tВысокая точность: обеспечивает высокую точность предсказаний.\n",
        "*\tРабота с большими наборами данных: Градиентный бустинг может эффективно работать с большими наборами данных.\n",
        "*\tУстойчивость к переобучению: Градиентный бустинг использует методы регуляризации. Это помогает предотвратить переобучение модели и улучшить ее обобщающую способность.\n"
      ]
    },
    {
      "cell_type": "code",
      "execution_count": 65,
      "metadata": {
        "id": "vIAicQ8YTjv2"
      },
      "outputs": [],
      "source": [
        "from catboost import CatBoostClassifier"
      ]
    },
    {
      "cell_type": "code",
      "execution_count": 66,
      "metadata": {
        "id": "aKf7b1uYV8U9"
      },
      "outputs": [],
      "source": [
        "boostModel = CatBoostClassifier(iterations=200,\n",
        "                           learning_rate=0.01,\n",
        "                           random_state=1024,\n",
        "                           verbose=False)\n"
      ]
    },
    {
      "cell_type": "code",
      "execution_count": 67,
      "metadata": {
        "colab": {
          "base_uri": "https://localhost:8080/"
        },
        "id": "yzYiprGJ0dM6",
        "outputId": "6c552a4a-adc4-4b1f-fa89-58a89d6a5760"
      },
      "outputs": [
        {
          "name": "stdout",
          "output_type": "stream",
          "text": [
            "CPU times: user 8.89 s, sys: 119 ms, total: 9.01 s\n",
            "Wall time: 4.83 s\n"
          ]
        },
        {
          "data": {
            "text/plain": [
              "<catboost.core.CatBoostClassifier at 0x7faa571efd90>"
            ]
          },
          "execution_count": 67,
          "metadata": {},
          "output_type": "execute_result"
        }
      ],
      "source": [
        "%time boostModel.fit(x_train[xCol], y_train)"
      ]
    },
    {
      "cell_type": "code",
      "execution_count": 68,
      "metadata": {
        "id": "j110TmjbXQup"
      },
      "outputs": [],
      "source": [
        "dataMetr['boost'] = boostModel.predict(x_test[xCol])"
      ]
    },
    {
      "cell_type": "code",
      "execution_count": 69,
      "metadata": {
        "id": "sQjtDi3Ng2Wk"
      },
      "outputs": [],
      "source": [
        "urlMod = r'/content/drive/MyDrive/DATA/SBER/model/'\n",
        "boostModel.save_model(urlMod+'boostModel.cbm', format=\"cbm\")"
      ]
    },
    {
      "cell_type": "code",
      "execution_count": 70,
      "metadata": {
        "colab": {
          "base_uri": "https://localhost:8080/"
        },
        "id": "ov8j8I8EXXwP",
        "outputId": "f10c1850-ed5b-4fec-e968-492b764db773"
      },
      "outputs": [
        {
          "name": "stdout",
          "output_type": "stream",
          "text": [
            "              precision    recall  f1-score   support\n",
            "\n",
            "     class 0       1.00      1.00      1.00      3324\n",
            "     class 1       1.00      1.00      1.00     18607\n",
            "     class 2       1.00      1.00      1.00      3069\n",
            "\n",
            "    accuracy                           1.00     25000\n",
            "   macro avg       1.00      1.00      1.00     25000\n",
            "weighted avg       1.00      1.00      1.00     25000\n",
            "\n"
          ]
        }
      ],
      "source": [
        "print(classification_report(dataMetr['strength'], dataMetr['boost'], target_names=target_names))"
      ]
    },
    {
      "cell_type": "markdown",
      "metadata": {
        "id": "y4NxtzYKZAfM"
      },
      "source": [
        "# Выводы"
      ]
    },
    {
      "cell_type": "markdown",
      "metadata": {
        "id": "iO5CJ-r6ZEnj"
      },
      "source": [
        "Из полученных данных метрик моделей классификаторов видно, что все модели имеют 100% точность на тестовой выборке. Строить ансамбль моделей обучения в этом случае не имеет смысла т.к. это ничего не даст. Оценить модели можно только по времени обучения и по затраченым ресурсам. Логистическая регрессия 16 сек., метод опрорных векторов 1 сек., градиентный бустинг 4 сек. Значений по умолчанию методов машинного обучения, которые использовались достаточно. Применять средства для подбора гиперпараметров типа Optuna моделей нет необходимости т.к. повысить точность не получится."
      ]
    }
  ],
  "metadata": {
    "colab": {
      "provenance": []
    },
    "kernelspec": {
      "display_name": "Python 3",
      "name": "python3"
    },
    "language_info": {
      "name": "python"
    }
  },
  "nbformat": 4,
  "nbformat_minor": 0
}
